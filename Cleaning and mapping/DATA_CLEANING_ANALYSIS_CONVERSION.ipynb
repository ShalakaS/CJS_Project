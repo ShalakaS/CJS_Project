{
 "cells": [
  {
   "cell_type": "code",
   "execution_count": 3,
   "id": "b4f5a6dc",
   "metadata": {},
   "outputs": [],
   "source": [
    "import pandas as pd\n",
    "import requests\n",
    "import re\n",
    "import numpy as np\n",
    "import json\n",
    "from pandas import json_normalize"
   ]
  },
  {
   "cell_type": "markdown",
   "id": "c15ee23b",
   "metadata": {},
   "source": [
    "#### This notebook is for cleaning of scraped data and preparing it for the map\n",
    "#### The idea is to plot pending murder cases in five districts of Maharashtra\n",
    "#### The choice was of Pune, which I'm familiar with and districts around it plus one distant district for the sake of the map"
   ]
  },
  {
   "cell_type": "markdown",
   "id": "f394ab43",
   "metadata": {},
   "source": [
    "# BEED"
   ]
  },
  {
   "cell_type": "code",
   "execution_count": null,
   "id": "69b4b004",
   "metadata": {},
   "outputs": [],
   "source": [
    "#These are scraped csvs which I'm turning into one district csv.\n",
    "#Same for the other districts\n",
    "df_BEED_1 = pd.read_csv('BEED_pending_case_data.csv')\n",
    "df_BEED_2 = pd.read_csv('BEED_MAJALGAON_pending_case_data.csv')\n",
    "df_BEED_3 = pd.read_csv('BEED_AMBAJOGAI_pending_case_data.csv')"
   ]
  },
  {
   "cell_type": "code",
   "execution_count": null,
   "id": "49fc7dfa",
   "metadata": {},
   "outputs": [],
   "source": [
    "df_BEE = pd.concat([df_BEED_1, df_BEED_2, df_BEED_3], axis=0)"
   ]
  },
  {
   "cell_type": "code",
   "execution_count": null,
   "id": "1c37bbe8",
   "metadata": {},
   "outputs": [],
   "source": [
    "df_BEED = df_BEE.reset_index(drop=True)\n",
    "df_BEED"
   ]
  },
  {
   "cell_type": "code",
   "execution_count": 2,
   "id": "c969428e",
   "metadata": {},
   "outputs": [
    {
     "ename": "NameError",
     "evalue": "name 'df_BEED' is not defined",
     "output_type": "error",
     "traceback": [
      "\u001b[0;31m---------------------------------------------------------------------------\u001b[0m",
      "\u001b[0;31mNameError\u001b[0m                                 Traceback (most recent call last)",
      "Cell \u001b[0;32mIn [2], line 1\u001b[0m\n\u001b[0;32m----> 1\u001b[0m \u001b[43mdf_BEED\u001b[49m\u001b[38;5;241m.\u001b[39mto_csv(\u001b[38;5;124m'\u001b[39m\u001b[38;5;124mBEED_pending_cases_F.csv\u001b[39m\u001b[38;5;124m'\u001b[39m, index\u001b[38;5;241m=\u001b[39m\u001b[38;5;28;01mFalse\u001b[39;00m)\n",
      "\u001b[0;31mNameError\u001b[0m: name 'df_BEED' is not defined"
     ]
    }
   ],
   "source": [
    "df_BEED.to_csv('BEED_pending_cases_F.csv', index=False)"
   ]
  },
  {
   "cell_type": "code",
   "execution_count": 18,
   "id": "a5dcd751",
   "metadata": {},
   "outputs": [],
   "source": [
    "BEED = pd.read_csv('BEED_pending_cases_F.csv', usecols=[\"CNR Number\", \"FIR Number\", \"Year\", \"Police Station\", \"First Hearing Date\", \"Case Stage\"])\n",
    "BEED['District'] = 'Beed'"
   ]
  },
  {
   "cell_type": "code",
   "execution_count": 19,
   "id": "16e98132",
   "metadata": {},
   "outputs": [
    {
     "name": "stderr",
     "output_type": "stream",
     "text": [
      "/var/folders/6g/mf4qklbs63q07skjqqfkj5lw0000gn/T/ipykernel_2758/2603987675.py:1: FutureWarning: The default value of regex will change from True to False in a future version.\n",
      "  BEED['fir_number'] = BEED['FIR Number'].astype(str).str.replace(\".0\", \"\") + \"/\" + BEED['Year'].astype(str).str.replace(\"\\.0\", \"\")\n"
     ]
    }
   ],
   "source": [
    "BEED['fir_number'] = BEED['FIR Number'].astype(str).str.replace(\".0\", \"\") + \"/\" + BEED['Year'].astype(str).str.replace(\"\\.0\", \"\") "
   ]
  },
  {
   "cell_type": "code",
   "execution_count": 20,
   "id": "dab8f12f",
   "metadata": {},
   "outputs": [
    {
     "data": {
      "text/html": [
       "<div>\n",
       "<style scoped>\n",
       "    .dataframe tbody tr th:only-of-type {\n",
       "        vertical-align: middle;\n",
       "    }\n",
       "\n",
       "    .dataframe tbody tr th {\n",
       "        vertical-align: top;\n",
       "    }\n",
       "\n",
       "    .dataframe thead th {\n",
       "        text-align: right;\n",
       "    }\n",
       "</style>\n",
       "<table border=\"1\" class=\"dataframe\">\n",
       "  <thead>\n",
       "    <tr style=\"text-align: right;\">\n",
       "      <th></th>\n",
       "      <th>CNR Number</th>\n",
       "      <th>First Hearing Date</th>\n",
       "      <th>Case Stage</th>\n",
       "      <th>Police Station</th>\n",
       "      <th>FIR Number</th>\n",
       "      <th>Year</th>\n",
       "      <th>District</th>\n",
       "      <th>fir_number</th>\n",
       "    </tr>\n",
       "  </thead>\n",
       "  <tbody>\n",
       "    <tr>\n",
       "      <th>0</th>\n",
       "      <td>MHBI010039882022 (Note the CNR number for futu...</td>\n",
       "      <td>11th November 2022</td>\n",
       "      <td>Order on Exh</td>\n",
       "      <td>Talwada Police Station</td>\n",
       "      <td>71.0</td>\n",
       "      <td>2021.0</td>\n",
       "      <td>Beed</td>\n",
       "      <td>71/2021</td>\n",
       "    </tr>\n",
       "    <tr>\n",
       "      <th>1</th>\n",
       "      <td>MHBI010038192022 (Note the CNR number for futu...</td>\n",
       "      <td>02nd November 2022</td>\n",
       "      <td>Order on Exh</td>\n",
       "      <td>Peth Beed Police Station</td>\n",
       "      <td>125.0</td>\n",
       "      <td>2022.0</td>\n",
       "      <td>Beed</td>\n",
       "      <td>125/2022</td>\n",
       "    </tr>\n",
       "    <tr>\n",
       "      <th>2</th>\n",
       "      <td>MHBI010037822022 (Note the CNR number for futu...</td>\n",
       "      <td>01st November 2022</td>\n",
       "      <td>Appearance</td>\n",
       "      <td>City Police Station Beed</td>\n",
       "      <td>107.0</td>\n",
       "      <td>2022.0</td>\n",
       "      <td>Beed</td>\n",
       "      <td>7/2022</td>\n",
       "    </tr>\n",
       "    <tr>\n",
       "      <th>3</th>\n",
       "      <td>MHBI010037742022 (Note the CNR number for futu...</td>\n",
       "      <td>31st October 2022</td>\n",
       "      <td>Charge</td>\n",
       "      <td>Pimpalner Police Station</td>\n",
       "      <td>50.0</td>\n",
       "      <td>2022.0</td>\n",
       "      <td>Beed</td>\n",
       "      <td>/2022</td>\n",
       "    </tr>\n",
       "    <tr>\n",
       "      <th>4</th>\n",
       "      <td>MHBI010037142022 (Note the CNR number for futu...</td>\n",
       "      <td>19th October 2022</td>\n",
       "      <td>Filing of Say on Exh___Unready</td>\n",
       "      <td>Rural Police Station Beed</td>\n",
       "      <td>179.0</td>\n",
       "      <td>2022.0</td>\n",
       "      <td>Beed</td>\n",
       "      <td>179/2022</td>\n",
       "    </tr>\n",
       "  </tbody>\n",
       "</table>\n",
       "</div>"
      ],
      "text/plain": [
       "                                          CNR Number  First Hearing Date  \\\n",
       "0  MHBI010039882022 (Note the CNR number for futu...  11th November 2022   \n",
       "1  MHBI010038192022 (Note the CNR number for futu...  02nd November 2022   \n",
       "2  MHBI010037822022 (Note the CNR number for futu...  01st November 2022   \n",
       "3  MHBI010037742022 (Note the CNR number for futu...   31st October 2022   \n",
       "4  MHBI010037142022 (Note the CNR number for futu...   19th October 2022   \n",
       "\n",
       "                       Case Stage             Police Station  FIR Number  \\\n",
       "0                    Order on Exh     Talwada Police Station        71.0   \n",
       "1                    Order on Exh   Peth Beed Police Station       125.0   \n",
       "2                      Appearance   City Police Station Beed       107.0   \n",
       "3                          Charge   Pimpalner Police Station        50.0   \n",
       "4  Filing of Say on Exh___Unready  Rural Police Station Beed       179.0   \n",
       "\n",
       "     Year District fir_number  \n",
       "0  2021.0     Beed    71/2021  \n",
       "1  2022.0     Beed   125/2022  \n",
       "2  2022.0     Beed     7/2022  \n",
       "3  2022.0     Beed      /2022  \n",
       "4  2022.0     Beed   179/2022  "
      ]
     },
     "execution_count": 20,
     "metadata": {},
     "output_type": "execute_result"
    }
   ],
   "source": [
    "BEED.head()"
   ]
  },
  {
   "cell_type": "markdown",
   "id": "7cf9f1b0",
   "metadata": {},
   "source": [
    "# NASHIK"
   ]
  },
  {
   "cell_type": "code",
   "execution_count": null,
   "id": "60fcaf5f",
   "metadata": {},
   "outputs": [],
   "source": [
    "df_NASHIK_1 = pd.read_csv('NASHIK_pending_case_data.csv')\n",
    "df_NASHIK_2 = pd.read_csv('NASHIK_MALEGAON_pending_case_data.csv')\n",
    "df_NASHIK_3 = pd.read_csv(\"NASHIK_NIPHAD_pending_case_data.csv\")"
   ]
  },
  {
   "cell_type": "code",
   "execution_count": null,
   "id": "1bc48bd3",
   "metadata": {},
   "outputs": [],
   "source": [
    "df_NASH = pd.concat([df_NASHIK_1, df_NASHIK_2, df_NASHIK_3], axis=0)\n",
    "df_NASHIK = df_NASH.reset_index(drop=True)"
   ]
  },
  {
   "cell_type": "code",
   "execution_count": 14,
   "id": "692abe44",
   "metadata": {},
   "outputs": [
    {
     "ename": "NameError",
     "evalue": "name 'df_NASHIK' is not defined",
     "output_type": "error",
     "traceback": [
      "\u001b[0;31m---------------------------------------------------------------------------\u001b[0m",
      "\u001b[0;31mNameError\u001b[0m                                 Traceback (most recent call last)",
      "Cell \u001b[0;32mIn [14], line 1\u001b[0m\n\u001b[0;32m----> 1\u001b[0m \u001b[43mdf_NASHIK\u001b[49m\u001b[38;5;241m.\u001b[39mto_csv(\u001b[38;5;124m'\u001b[39m\u001b[38;5;124mNASHIK_pending_cases_F.csv\u001b[39m\u001b[38;5;124m'\u001b[39m, index\u001b[38;5;241m=\u001b[39m\u001b[38;5;28;01mFalse\u001b[39;00m)\n",
      "\u001b[0;31mNameError\u001b[0m: name 'df_NASHIK' is not defined"
     ]
    }
   ],
   "source": [
    "df_NASHIK.to_csv('NASHIK_pending_cases_F.csv', index=False)"
   ]
  },
  {
   "cell_type": "code",
   "execution_count": 15,
   "id": "770f7319",
   "metadata": {},
   "outputs": [],
   "source": [
    "NASHIK = pd.read_csv('NASHIK_pending_cases_F.csv', usecols=[\"CNR Number\", \"FIR Number\", \"Year\", \"Police Station\", \"First Hearing Date\", \"Case Stage\"])\n",
    "NASHIK['District'] = 'Nashik'"
   ]
  },
  {
   "cell_type": "code",
   "execution_count": 16,
   "id": "dcff5fb7",
   "metadata": {},
   "outputs": [
    {
     "name": "stderr",
     "output_type": "stream",
     "text": [
      "/var/folders/6g/mf4qklbs63q07skjqqfkj5lw0000gn/T/ipykernel_2758/410263124.py:1: FutureWarning: The default value of regex will change from True to False in a future version.\n",
      "  NASHIK['fir_number'] = NASHIK['FIR Number'].astype(str).str.replace(\".0\", \"\") + \"/\" + NASHIK['Year'].astype(str).str.replace(\"\\.0\", \"\")\n"
     ]
    }
   ],
   "source": [
    "NASHIK['fir_number'] = NASHIK['FIR Number'].astype(str).str.replace(\".0\", \"\") + \"/\" + NASHIK['Year'].astype(str).str.replace(\"\\.0\", \"\") "
   ]
  },
  {
   "cell_type": "code",
   "execution_count": 17,
   "id": "138d7fe0",
   "metadata": {},
   "outputs": [
    {
     "data": {
      "text/html": [
       "<div>\n",
       "<style scoped>\n",
       "    .dataframe tbody tr th:only-of-type {\n",
       "        vertical-align: middle;\n",
       "    }\n",
       "\n",
       "    .dataframe tbody tr th {\n",
       "        vertical-align: top;\n",
       "    }\n",
       "\n",
       "    .dataframe thead th {\n",
       "        text-align: right;\n",
       "    }\n",
       "</style>\n",
       "<table border=\"1\" class=\"dataframe\">\n",
       "  <thead>\n",
       "    <tr style=\"text-align: right;\">\n",
       "      <th></th>\n",
       "      <th>CNR Number</th>\n",
       "      <th>First Hearing Date</th>\n",
       "      <th>Case Stage</th>\n",
       "      <th>Police Station</th>\n",
       "      <th>FIR Number</th>\n",
       "      <th>Year</th>\n",
       "      <th>District</th>\n",
       "      <th>fir_number</th>\n",
       "    </tr>\n",
       "  </thead>\n",
       "  <tbody>\n",
       "    <tr>\n",
       "      <th>0</th>\n",
       "      <td>MHNS010066152022 (Note the CNR number for futu...</td>\n",
       "      <td>09th December 2022</td>\n",
       "      <td>Unready Board</td>\n",
       "      <td>INDIRANAGAR POLICE STATION</td>\n",
       "      <td>132</td>\n",
       "      <td>2022.0</td>\n",
       "      <td>Nashik</td>\n",
       "      <td>132/2022</td>\n",
       "    </tr>\n",
       "    <tr>\n",
       "      <th>1</th>\n",
       "      <td>MHNS010065562022 (Note the CNR number for futu...</td>\n",
       "      <td>03rd December 2022</td>\n",
       "      <td>Charge</td>\n",
       "      <td>HARSUL POLICE STATION</td>\n",
       "      <td>43</td>\n",
       "      <td>2021.0</td>\n",
       "      <td>Nashik</td>\n",
       "      <td>43/2021</td>\n",
       "    </tr>\n",
       "  </tbody>\n",
       "</table>\n",
       "</div>"
      ],
      "text/plain": [
       "                                          CNR Number  First Hearing Date  \\\n",
       "0  MHNS010066152022 (Note the CNR number for futu...  09th December 2022   \n",
       "1  MHNS010065562022 (Note the CNR number for futu...  03rd December 2022   \n",
       "\n",
       "      Case Stage              Police Station FIR Number    Year District  \\\n",
       "0  Unready Board  INDIRANAGAR POLICE STATION        132  2022.0   Nashik   \n",
       "1         Charge       HARSUL POLICE STATION         43  2021.0   Nashik   \n",
       "\n",
       "  fir_number  \n",
       "0   132/2022  \n",
       "1    43/2021  "
      ]
     },
     "execution_count": 17,
     "metadata": {},
     "output_type": "execute_result"
    }
   ],
   "source": [
    "NASHIK.head(2)"
   ]
  },
  {
   "cell_type": "markdown",
   "id": "2d4116bd",
   "metadata": {},
   "source": [
    "# AHMEDNAGAR"
   ]
  },
  {
   "cell_type": "code",
   "execution_count": null,
   "id": "78c704f1",
   "metadata": {},
   "outputs": [],
   "source": [
    "df_AHMEDNAGAR_1 = pd.read_csv('AHMEDNAGAR_pending_case_data.csv')\n",
    "df_AHMEDNAGAR_2 = pd.read_csv('AHMEDNAGAR_KOPERGAON_pending_case_data.csv')\n",
    "df_AHMEDNAGAR_3 = pd.read_csv('AHMEDNAGAR_SHRIRAMPUR_pending_case_data.csv')"
   ]
  },
  {
   "cell_type": "code",
   "execution_count": null,
   "id": "7fb18af7",
   "metadata": {},
   "outputs": [],
   "source": [
    "df_AHMED = pd.concat([df_AHMEDNAGAR_1, df_AHMEDNAGAR_2, df_AHMEDNAGAR_3], axis=0)"
   ]
  },
  {
   "cell_type": "code",
   "execution_count": null,
   "id": "4d524505",
   "metadata": {},
   "outputs": [],
   "source": [
    "df_AHMEDNAGAR = df_AHMED.reset_index(drop=True)"
   ]
  },
  {
   "cell_type": "code",
   "execution_count": null,
   "id": "584044fb",
   "metadata": {},
   "outputs": [],
   "source": [
    "df_AHMEDNAGAR.to_csv('AHMEDNAGAR_pending_cases_F.csv', index=False)"
   ]
  },
  {
   "cell_type": "code",
   "execution_count": 11,
   "id": "ab108aa0",
   "metadata": {},
   "outputs": [],
   "source": [
    "AHMEDNAGAR = pd.read_csv('AHMEDNAGAR_pending_cases_F.csv', usecols=[\"CNR Number\", \"FIR Number\", \"Year\", \"Police Station\", \"First Hearing Date\", \"Case Stage\"])\n",
    "AHMEDNAGAR['District'] = 'Ahmednagar'"
   ]
  },
  {
   "cell_type": "code",
   "execution_count": 12,
   "id": "216eae52",
   "metadata": {},
   "outputs": [
    {
     "name": "stderr",
     "output_type": "stream",
     "text": [
      "/var/folders/6g/mf4qklbs63q07skjqqfkj5lw0000gn/T/ipykernel_2758/3793287486.py:1: FutureWarning: The default value of regex will change from True to False in a future version.\n",
      "  AHMEDNAGAR['fir_number'] = AHMEDNAGAR['FIR Number'].astype(str).str.replace(\".0\", \"\") + \"/\" + AHMEDNAGAR['Year'].astype(str).str.replace(\"\\.0\", \"\")\n"
     ]
    }
   ],
   "source": [
    "AHMEDNAGAR['fir_number'] = AHMEDNAGAR['FIR Number'].astype(str).str.replace(\".0\", \"\") + \"/\" + AHMEDNAGAR['Year'].astype(str).str.replace(\"\\.0\", \"\") "
   ]
  },
  {
   "cell_type": "code",
   "execution_count": 13,
   "id": "3e147078",
   "metadata": {},
   "outputs": [
    {
     "data": {
      "text/html": [
       "<div>\n",
       "<style scoped>\n",
       "    .dataframe tbody tr th:only-of-type {\n",
       "        vertical-align: middle;\n",
       "    }\n",
       "\n",
       "    .dataframe tbody tr th {\n",
       "        vertical-align: top;\n",
       "    }\n",
       "\n",
       "    .dataframe thead th {\n",
       "        text-align: right;\n",
       "    }\n",
       "</style>\n",
       "<table border=\"1\" class=\"dataframe\">\n",
       "  <thead>\n",
       "    <tr style=\"text-align: right;\">\n",
       "      <th></th>\n",
       "      <th>CNR Number</th>\n",
       "      <th>First Hearing Date</th>\n",
       "      <th>Case Stage</th>\n",
       "      <th>Police Station</th>\n",
       "      <th>FIR Number</th>\n",
       "      <th>Year</th>\n",
       "      <th>District</th>\n",
       "      <th>fir_number</th>\n",
       "    </tr>\n",
       "  </thead>\n",
       "  <tbody>\n",
       "    <tr>\n",
       "      <th>0</th>\n",
       "      <td>MHAH010075382022 (Note the CNR number for futu...</td>\n",
       "      <td>22nd November 2022</td>\n",
       "      <td>First Order</td>\n",
       "      <td>Shevgaon Police Station</td>\n",
       "      <td>556</td>\n",
       "      <td>2022.0</td>\n",
       "      <td>Ahmednagar</td>\n",
       "      <td>556/2022</td>\n",
       "    </tr>\n",
       "    <tr>\n",
       "      <th>1</th>\n",
       "      <td>MHAH010074972022 (Note the CNR number for futu...</td>\n",
       "      <td>23rd November 2022</td>\n",
       "      <td>Argument on Exh.____Ready</td>\n",
       "      <td>MIDC Police Station</td>\n",
       "      <td>536</td>\n",
       "      <td>2021.0</td>\n",
       "      <td>Ahmednagar</td>\n",
       "      <td>536/2021</td>\n",
       "    </tr>\n",
       "    <tr>\n",
       "      <th>2</th>\n",
       "      <td>MHAH010072892022 (Note the CNR number for futu...</td>\n",
       "      <td>17th November 2022</td>\n",
       "      <td>First Order</td>\n",
       "      <td>Parner Police Station</td>\n",
       "      <td>648</td>\n",
       "      <td>2022.0</td>\n",
       "      <td>Ahmednagar</td>\n",
       "      <td>648/2022</td>\n",
       "    </tr>\n",
       "    <tr>\n",
       "      <th>3</th>\n",
       "      <td>MHAH010072842022 (Note the CNR number for futu...</td>\n",
       "      <td>14th November 2022</td>\n",
       "      <td>Charge</td>\n",
       "      <td>Tophkhana Police Station</td>\n",
       "      <td>701</td>\n",
       "      <td>2022.0</td>\n",
       "      <td>Ahmednagar</td>\n",
       "      <td>1/2022</td>\n",
       "    </tr>\n",
       "    <tr>\n",
       "      <th>4</th>\n",
       "      <td>MHAH010068312022 (Note the CNR number for futu...</td>\n",
       "      <td>21st October 2022</td>\n",
       "      <td>Charge</td>\n",
       "      <td>Shevgaon Police Station</td>\n",
       "      <td>476</td>\n",
       "      <td>2022.0</td>\n",
       "      <td>Ahmednagar</td>\n",
       "      <td>476/2022</td>\n",
       "    </tr>\n",
       "  </tbody>\n",
       "</table>\n",
       "</div>"
      ],
      "text/plain": [
       "                                          CNR Number  First Hearing Date  \\\n",
       "0  MHAH010075382022 (Note the CNR number for futu...  22nd November 2022   \n",
       "1  MHAH010074972022 (Note the CNR number for futu...  23rd November 2022   \n",
       "2  MHAH010072892022 (Note the CNR number for futu...  17th November 2022   \n",
       "3  MHAH010072842022 (Note the CNR number for futu...  14th November 2022   \n",
       "4  MHAH010068312022 (Note the CNR number for futu...   21st October 2022   \n",
       "\n",
       "                  Case Stage            Police Station FIR Number    Year  \\\n",
       "0                First Order   Shevgaon Police Station        556  2022.0   \n",
       "1  Argument on Exh.____Ready       MIDC Police Station        536  2021.0   \n",
       "2                First Order     Parner Police Station        648  2022.0   \n",
       "3                     Charge  Tophkhana Police Station        701  2022.0   \n",
       "4                     Charge   Shevgaon Police Station        476  2022.0   \n",
       "\n",
       "     District fir_number  \n",
       "0  Ahmednagar   556/2022  \n",
       "1  Ahmednagar   536/2021  \n",
       "2  Ahmednagar   648/2022  \n",
       "3  Ahmednagar     1/2022  \n",
       "4  Ahmednagar   476/2022  "
      ]
     },
     "execution_count": 13,
     "metadata": {},
     "output_type": "execute_result"
    }
   ],
   "source": [
    "AHMEDNAGAR.head()"
   ]
  },
  {
   "cell_type": "code",
   "execution_count": 1,
   "id": "6d0c3546",
   "metadata": {},
   "outputs": [],
   "source": [
    "# AHMEDNAGAR.petitioner_and_advocate = AHMEDNAGAR.petitioner_and_advocate.apply(lambda line: eval(line))"
   ]
  },
  {
   "cell_type": "markdown",
   "id": "bf6f7fbc",
   "metadata": {},
   "source": [
    "# PUNE"
   ]
  },
  {
   "cell_type": "code",
   "execution_count": 4,
   "id": "c577bfe3",
   "metadata": {},
   "outputs": [],
   "source": [
    "PUNE = pd.read_csv('PUNE_pending_cases_F.csv', usecols=[\"CNR Number\", \"FIR Number\", \"Year\", \"Police Station\", \"First Hearing Date\", \"Case Stage\"])\n",
    "PUNE['District'] = 'Pune'"
   ]
  },
  {
   "cell_type": "code",
   "execution_count": 5,
   "id": "422ce40d",
   "metadata": {},
   "outputs": [
    {
     "name": "stderr",
     "output_type": "stream",
     "text": [
      "/var/folders/6g/mf4qklbs63q07skjqqfkj5lw0000gn/T/ipykernel_2758/2214618526.py:1: FutureWarning: The default value of regex will change from True to False in a future version.\n",
      "  PUNE['fir_number'] = PUNE['FIR Number'].astype(str).str.replace(\".0\", \"\") + \"/\" + PUNE['Year'].astype(str).str.replace(\"\\.0\", \"\")\n"
     ]
    }
   ],
   "source": [
    "PUNE['fir_number'] = PUNE['FIR Number'].astype(str).str.replace(\".0\", \"\") + \"/\" + PUNE['Year'].astype(str).str.replace(\"\\.0\", \"\") "
   ]
  },
  {
   "cell_type": "code",
   "execution_count": 6,
   "id": "d7863f82",
   "metadata": {},
   "outputs": [
    {
     "data": {
      "text/html": [
       "<div>\n",
       "<style scoped>\n",
       "    .dataframe tbody tr th:only-of-type {\n",
       "        vertical-align: middle;\n",
       "    }\n",
       "\n",
       "    .dataframe tbody tr th {\n",
       "        vertical-align: top;\n",
       "    }\n",
       "\n",
       "    .dataframe thead th {\n",
       "        text-align: right;\n",
       "    }\n",
       "</style>\n",
       "<table border=\"1\" class=\"dataframe\">\n",
       "  <thead>\n",
       "    <tr style=\"text-align: right;\">\n",
       "      <th></th>\n",
       "      <th>CNR Number</th>\n",
       "      <th>First Hearing Date</th>\n",
       "      <th>Case Stage</th>\n",
       "      <th>Police Station</th>\n",
       "      <th>FIR Number</th>\n",
       "      <th>Year</th>\n",
       "      <th>District</th>\n",
       "      <th>fir_number</th>\n",
       "    </tr>\n",
       "  </thead>\n",
       "  <tbody>\n",
       "    <tr>\n",
       "      <th>0</th>\n",
       "      <td>MHPU140042502022 (Note the CNR number for futu...</td>\n",
       "      <td>20th December 2022</td>\n",
       "      <td>Unready Board</td>\n",
       "      <td>WALCHANDNAGAR P.S.</td>\n",
       "      <td>2.0</td>\n",
       "      <td>2022.0</td>\n",
       "      <td>Pune</td>\n",
       "      <td>2/2022</td>\n",
       "    </tr>\n",
       "    <tr>\n",
       "      <th>1</th>\n",
       "      <td>MHPU140040712022 (Note the CNR number for futu...</td>\n",
       "      <td>28th November 2022</td>\n",
       "      <td>Production of Accused</td>\n",
       "      <td>YAWAT P.S.</td>\n",
       "      <td>601.0</td>\n",
       "      <td>2022.0</td>\n",
       "      <td>Pune</td>\n",
       "      <td>1/2022</td>\n",
       "    </tr>\n",
       "    <tr>\n",
       "      <th>2</th>\n",
       "      <td>MHPU140039602022 (Note the CNR number for futu...</td>\n",
       "      <td>25th November 2022</td>\n",
       "      <td>Unready Board</td>\n",
       "      <td>VADGAON NIMBALKAR</td>\n",
       "      <td>293.0</td>\n",
       "      <td>2022.0</td>\n",
       "      <td>Pune</td>\n",
       "      <td>293/2022</td>\n",
       "    </tr>\n",
       "    <tr>\n",
       "      <th>3</th>\n",
       "      <td>MHPU140037862022 (Note the CNR number for futu...</td>\n",
       "      <td>01st November 2022</td>\n",
       "      <td>Unready Board</td>\n",
       "      <td>YAWAT P.S.</td>\n",
       "      <td>1085.0</td>\n",
       "      <td>2020.0</td>\n",
       "      <td>Pune</td>\n",
       "      <td>85/2020</td>\n",
       "    </tr>\n",
       "    <tr>\n",
       "      <th>4</th>\n",
       "      <td>MHPU140035312022 (Note the CNR number for futu...</td>\n",
       "      <td>13th October 2022</td>\n",
       "      <td>Production of Accused</td>\n",
       "      <td>YAWAT P.S.</td>\n",
       "      <td>479.0</td>\n",
       "      <td>2022.0</td>\n",
       "      <td>Pune</td>\n",
       "      <td>479/2022</td>\n",
       "    </tr>\n",
       "  </tbody>\n",
       "</table>\n",
       "</div>"
      ],
      "text/plain": [
       "                                          CNR Number  First Hearing Date  \\\n",
       "0  MHPU140042502022 (Note the CNR number for futu...  20th December 2022   \n",
       "1  MHPU140040712022 (Note the CNR number for futu...  28th November 2022   \n",
       "2  MHPU140039602022 (Note the CNR number for futu...  25th November 2022   \n",
       "3  MHPU140037862022 (Note the CNR number for futu...  01st November 2022   \n",
       "4  MHPU140035312022 (Note the CNR number for futu...   13th October 2022   \n",
       "\n",
       "              Case Stage      Police Station  FIR Number    Year District  \\\n",
       "0          Unready Board  WALCHANDNAGAR P.S.         2.0  2022.0     Pune   \n",
       "1  Production of Accused          YAWAT P.S.       601.0  2022.0     Pune   \n",
       "2          Unready Board   VADGAON NIMBALKAR       293.0  2022.0     Pune   \n",
       "3          Unready Board          YAWAT P.S.      1085.0  2020.0     Pune   \n",
       "4  Production of Accused          YAWAT P.S.       479.0  2022.0     Pune   \n",
       "\n",
       "  fir_number  \n",
       "0     2/2022  \n",
       "1     1/2022  \n",
       "2   293/2022  \n",
       "3    85/2020  \n",
       "4   479/2022  "
      ]
     },
     "execution_count": 6,
     "metadata": {},
     "output_type": "execute_result"
    }
   ],
   "source": [
    "PUNE.head()"
   ]
  },
  {
   "cell_type": "code",
   "execution_count": null,
   "id": "a09217bd",
   "metadata": {},
   "outputs": [],
   "source": [
    "PUNE.respondent_and_advocate.apply(lambda line: eval(line))"
   ]
  },
  {
   "cell_type": "markdown",
   "id": "f9780752",
   "metadata": {},
   "source": [
    "# NAGPUR"
   ]
  },
  {
   "cell_type": "code",
   "execution_count": null,
   "id": "4d3766bd",
   "metadata": {},
   "outputs": [],
   "source": [
    "df_nagpur1 = pd.read_csv('NAGPUR_pending_case_data.csv')\n",
    "df_nagpur2 = pd.read_csv('NAGPUR_pending_case_data_empty_column.csv')"
   ]
  },
  {
   "cell_type": "code",
   "execution_count": null,
   "id": "9fed6661",
   "metadata": {},
   "outputs": [],
   "source": [
    "df_NAGPUR = pd.concat([df_nagpur1, df_nagpur2], axis=0)"
   ]
  },
  {
   "cell_type": "code",
   "execution_count": null,
   "id": "464b64cb",
   "metadata": {},
   "outputs": [],
   "source": [
    "#df_NAGPUR.to_csv('NAGPUR_pending_cases_F.csv')\n",
    "#I accidently deleted this step and renetered it but do not want to overwrite the csv. \n",
    "#So just retaining the code I used to do it without running it since the csv already exists."
   ]
  },
  {
   "cell_type": "code",
   "execution_count": 7,
   "id": "382e0b41",
   "metadata": {},
   "outputs": [],
   "source": [
    "NAGPUR = pd.read_csv('NAGPUR_pending_cases_F.csv', usecols=[\"CNR Number\", \"FIR Number\", \"Year\", \"Police Station\", \"First Hearing Date\", \"Case Stage\"])\n",
    "NAGPUR['District'] = 'Nagpur'"
   ]
  },
  {
   "cell_type": "code",
   "execution_count": 8,
   "id": "22b2f1bb",
   "metadata": {},
   "outputs": [
    {
     "name": "stderr",
     "output_type": "stream",
     "text": [
      "/var/folders/6g/mf4qklbs63q07skjqqfkj5lw0000gn/T/ipykernel_2758/483830842.py:1: FutureWarning: The default value of regex will change from True to False in a future version.\n",
      "  NAGPUR['fir_number'] = NAGPUR['FIR Number'].astype(str).str.replace(\".0\", \"\") + \"/\" + NAGPUR['Year'].astype(str).str.replace(\"\\.0\", \"\")\n"
     ]
    }
   ],
   "source": [
    "NAGPUR['fir_number'] = NAGPUR['FIR Number'].astype(str).str.replace(\".0\", \"\") + \"/\" + NAGPUR['Year'].astype(str).str.replace(\"\\.0\", \"\") "
   ]
  },
  {
   "cell_type": "code",
   "execution_count": 9,
   "id": "da604720",
   "metadata": {},
   "outputs": [
    {
     "data": {
      "text/html": [
       "<div>\n",
       "<style scoped>\n",
       "    .dataframe tbody tr th:only-of-type {\n",
       "        vertical-align: middle;\n",
       "    }\n",
       "\n",
       "    .dataframe tbody tr th {\n",
       "        vertical-align: top;\n",
       "    }\n",
       "\n",
       "    .dataframe thead th {\n",
       "        text-align: right;\n",
       "    }\n",
       "</style>\n",
       "<table border=\"1\" class=\"dataframe\">\n",
       "  <thead>\n",
       "    <tr style=\"text-align: right;\">\n",
       "      <th></th>\n",
       "      <th>CNR Number</th>\n",
       "      <th>First Hearing Date</th>\n",
       "      <th>Case Stage</th>\n",
       "      <th>Police Station</th>\n",
       "      <th>FIR Number</th>\n",
       "      <th>Year</th>\n",
       "      <th>District</th>\n",
       "      <th>fir_number</th>\n",
       "    </tr>\n",
       "  </thead>\n",
       "  <tbody>\n",
       "    <tr>\n",
       "      <th>0</th>\n",
       "      <td>MHNG010120982022 (Note the CNR number for futu...</td>\n",
       "      <td>12th December 2022</td>\n",
       "      <td>Appearance</td>\n",
       "      <td>Saoner</td>\n",
       "      <td>686.0</td>\n",
       "      <td>2022.0</td>\n",
       "      <td>Nagpur</td>\n",
       "      <td>686/2022</td>\n",
       "    </tr>\n",
       "    <tr>\n",
       "      <th>1</th>\n",
       "      <td>MHNG010120322022 (Note the CNR number for futu...</td>\n",
       "      <td>08th December 2022</td>\n",
       "      <td>Reply/Say</td>\n",
       "      <td>Rana Pratap Nagar</td>\n",
       "      <td>297.0</td>\n",
       "      <td>2022.0</td>\n",
       "      <td>Nagpur</td>\n",
       "      <td>297/2022</td>\n",
       "    </tr>\n",
       "    <tr>\n",
       "      <th>2</th>\n",
       "      <td>MHNG010120232022 (Note the CNR number for futu...</td>\n",
       "      <td>03rd December 2022</td>\n",
       "      <td>Appearance</td>\n",
       "      <td>Rly Police Stn</td>\n",
       "      <td>625.0</td>\n",
       "      <td>2022.0</td>\n",
       "      <td>Nagpur</td>\n",
       "      <td>625/2022</td>\n",
       "    </tr>\n",
       "    <tr>\n",
       "      <th>3</th>\n",
       "      <td>MHNG010119502022 (Note the CNR number for futu...</td>\n",
       "      <td>03rd December 2022</td>\n",
       "      <td>Reply/Say</td>\n",
       "      <td>Pardi</td>\n",
       "      <td>277.0</td>\n",
       "      <td>2022.0</td>\n",
       "      <td>Nagpur</td>\n",
       "      <td>277/2022</td>\n",
       "    </tr>\n",
       "    <tr>\n",
       "      <th>4</th>\n",
       "      <td>MHNG010117432022 (Note the CNR number for futu...</td>\n",
       "      <td>05th December 2022</td>\n",
       "      <td>Production of Accused</td>\n",
       "      <td>Beltaroli</td>\n",
       "      <td>377.0</td>\n",
       "      <td>2022.0</td>\n",
       "      <td>Nagpur</td>\n",
       "      <td>377/2022</td>\n",
       "    </tr>\n",
       "  </tbody>\n",
       "</table>\n",
       "</div>"
      ],
      "text/plain": [
       "                                          CNR Number  First Hearing Date  \\\n",
       "0  MHNG010120982022 (Note the CNR number for futu...  12th December 2022   \n",
       "1  MHNG010120322022 (Note the CNR number for futu...  08th December 2022   \n",
       "2  MHNG010120232022 (Note the CNR number for futu...  03rd December 2022   \n",
       "3  MHNG010119502022 (Note the CNR number for futu...  03rd December 2022   \n",
       "4  MHNG010117432022 (Note the CNR number for futu...  05th December 2022   \n",
       "\n",
       "              Case Stage     Police Station  FIR Number    Year District  \\\n",
       "0             Appearance             Saoner       686.0  2022.0   Nagpur   \n",
       "1              Reply/Say  Rana Pratap Nagar       297.0  2022.0   Nagpur   \n",
       "2             Appearance     Rly Police Stn       625.0  2022.0   Nagpur   \n",
       "3              Reply/Say              Pardi       277.0  2022.0   Nagpur   \n",
       "4  Production of Accused          Beltaroli       377.0  2022.0   Nagpur   \n",
       "\n",
       "  fir_number  \n",
       "0   686/2022  \n",
       "1   297/2022  \n",
       "2   625/2022  \n",
       "3   277/2022  \n",
       "4   377/2022  "
      ]
     },
     "execution_count": 9,
     "metadata": {},
     "output_type": "execute_result"
    }
   ],
   "source": [
    "NAGPUR.head()"
   ]
  },
  {
   "cell_type": "code",
   "execution_count": null,
   "id": "790d80ed",
   "metadata": {},
   "outputs": [],
   "source": [
    "# Turn the column into a list\n",
    "NAGPUR.petitioner_and_advocate = NAGPUR.petitioner_and_advocate.apply(lambda line: eval(line))\n",
    "NAGPUR.head(2)"
   ]
  },
  {
   "cell_type": "markdown",
   "id": "f3242d89",
   "metadata": {},
   "source": [
    "## Merging all districts in one dataframe"
   ]
  },
  {
   "cell_type": "code",
   "execution_count": 21,
   "id": "7f8c86cb",
   "metadata": {},
   "outputs": [],
   "source": [
    "FIVE_DISTRICT = pd.concat([PUNE, AHMEDNAGAR, NAGPUR, BEED, NASHIK], axis=0)\n",
    "FIVE_DISTRICT = FIVE_DISTRICT.reset_index(drop=True)"
   ]
  },
  {
   "cell_type": "code",
   "execution_count": 22,
   "id": "a0b35041",
   "metadata": {},
   "outputs": [
    {
     "data": {
      "text/html": [
       "<div>\n",
       "<style scoped>\n",
       "    .dataframe tbody tr th:only-of-type {\n",
       "        vertical-align: middle;\n",
       "    }\n",
       "\n",
       "    .dataframe tbody tr th {\n",
       "        vertical-align: top;\n",
       "    }\n",
       "\n",
       "    .dataframe thead th {\n",
       "        text-align: right;\n",
       "    }\n",
       "</style>\n",
       "<table border=\"1\" class=\"dataframe\">\n",
       "  <thead>\n",
       "    <tr style=\"text-align: right;\">\n",
       "      <th></th>\n",
       "      <th>CNR Number</th>\n",
       "      <th>First Hearing Date</th>\n",
       "      <th>Case Stage</th>\n",
       "      <th>Police Station</th>\n",
       "      <th>FIR Number</th>\n",
       "      <th>Year</th>\n",
       "      <th>District</th>\n",
       "      <th>fir_number</th>\n",
       "    </tr>\n",
       "  </thead>\n",
       "  <tbody>\n",
       "    <tr>\n",
       "      <th>0</th>\n",
       "      <td>MHPU140042502022 (Note the CNR number for futu...</td>\n",
       "      <td>20th December 2022</td>\n",
       "      <td>Unready Board</td>\n",
       "      <td>WALCHANDNAGAR P.S.</td>\n",
       "      <td>2.0</td>\n",
       "      <td>2022.0</td>\n",
       "      <td>Pune</td>\n",
       "      <td>2/2022</td>\n",
       "    </tr>\n",
       "    <tr>\n",
       "      <th>1</th>\n",
       "      <td>MHPU140040712022 (Note the CNR number for futu...</td>\n",
       "      <td>28th November 2022</td>\n",
       "      <td>Production of Accused</td>\n",
       "      <td>YAWAT P.S.</td>\n",
       "      <td>601.0</td>\n",
       "      <td>2022.0</td>\n",
       "      <td>Pune</td>\n",
       "      <td>1/2022</td>\n",
       "    </tr>\n",
       "    <tr>\n",
       "      <th>2</th>\n",
       "      <td>MHPU140039602022 (Note the CNR number for futu...</td>\n",
       "      <td>25th November 2022</td>\n",
       "      <td>Unready Board</td>\n",
       "      <td>VADGAON NIMBALKAR</td>\n",
       "      <td>293.0</td>\n",
       "      <td>2022.0</td>\n",
       "      <td>Pune</td>\n",
       "      <td>293/2022</td>\n",
       "    </tr>\n",
       "    <tr>\n",
       "      <th>3</th>\n",
       "      <td>MHPU140037862022 (Note the CNR number for futu...</td>\n",
       "      <td>01st November 2022</td>\n",
       "      <td>Unready Board</td>\n",
       "      <td>YAWAT P.S.</td>\n",
       "      <td>1085.0</td>\n",
       "      <td>2020.0</td>\n",
       "      <td>Pune</td>\n",
       "      <td>85/2020</td>\n",
       "    </tr>\n",
       "    <tr>\n",
       "      <th>4</th>\n",
       "      <td>MHPU140035312022 (Note the CNR number for futu...</td>\n",
       "      <td>13th October 2022</td>\n",
       "      <td>Production of Accused</td>\n",
       "      <td>YAWAT P.S.</td>\n",
       "      <td>479.0</td>\n",
       "      <td>2022.0</td>\n",
       "      <td>Pune</td>\n",
       "      <td>479/2022</td>\n",
       "    </tr>\n",
       "    <tr>\n",
       "      <th>...</th>\n",
       "      <td>...</td>\n",
       "      <td>...</td>\n",
       "      <td>...</td>\n",
       "      <td>...</td>\n",
       "      <td>...</td>\n",
       "      <td>...</td>\n",
       "      <td>...</td>\n",
       "      <td>...</td>\n",
       "    </tr>\n",
       "    <tr>\n",
       "      <th>3158</th>\n",
       "      <td>MHNS100005492021 (Note the CNR number for futu...</td>\n",
       "      <td>28th April 2021</td>\n",
       "      <td>Awaiting Muddemal</td>\n",
       "      <td>PIMPALGAON POLICE STATION</td>\n",
       "      <td>22</td>\n",
       "      <td>2021.0</td>\n",
       "      <td>Nashik</td>\n",
       "      <td>22/2021</td>\n",
       "    </tr>\n",
       "    <tr>\n",
       "      <th>3159</th>\n",
       "      <td>MHNS100004402016 (Note the CNR number for futu...</td>\n",
       "      <td>10th May 2016</td>\n",
       "      <td>Hearing</td>\n",
       "      <td>LASALGAON POLICE STATION</td>\n",
       "      <td>3</td>\n",
       "      <td>2016.0</td>\n",
       "      <td>Nashik</td>\n",
       "      <td>3/2016</td>\n",
       "    </tr>\n",
       "    <tr>\n",
       "      <th>3160</th>\n",
       "      <td>MHNS110038562022 (Note the CNR number for futu...</td>\n",
       "      <td>21st September 2022</td>\n",
       "      <td>Appearance</td>\n",
       "      <td>LASALGAON POLICE STATION</td>\n",
       "      <td>123</td>\n",
       "      <td>2022.0</td>\n",
       "      <td>Nashik</td>\n",
       "      <td>123/2022</td>\n",
       "    </tr>\n",
       "    <tr>\n",
       "      <th>3161</th>\n",
       "      <td>MHNS110022482021 (Note the CNR number for futu...</td>\n",
       "      <td>30th June 2021</td>\n",
       "      <td>N.B.W._Unready</td>\n",
       "      <td>NIPHAD POLICE STATION</td>\n",
       "      <td>367</td>\n",
       "      <td>2021.0</td>\n",
       "      <td>Nashik</td>\n",
       "      <td>367/2021</td>\n",
       "    </tr>\n",
       "    <tr>\n",
       "      <th>3162</th>\n",
       "      <td>MHNS110019402017 (Note the CNR number for futu...</td>\n",
       "      <td>21st September 2017</td>\n",
       "      <td>Proclomation</td>\n",
       "      <td>NIPHAD POLICE STATION</td>\n",
       "      <td>4</td>\n",
       "      <td>2016.0</td>\n",
       "      <td>Nashik</td>\n",
       "      <td>4/2016</td>\n",
       "    </tr>\n",
       "  </tbody>\n",
       "</table>\n",
       "<p>3163 rows × 8 columns</p>\n",
       "</div>"
      ],
      "text/plain": [
       "                                             CNR Number   First Hearing Date  \\\n",
       "0     MHPU140042502022 (Note the CNR number for futu...   20th December 2022   \n",
       "1     MHPU140040712022 (Note the CNR number for futu...   28th November 2022   \n",
       "2     MHPU140039602022 (Note the CNR number for futu...   25th November 2022   \n",
       "3     MHPU140037862022 (Note the CNR number for futu...   01st November 2022   \n",
       "4     MHPU140035312022 (Note the CNR number for futu...    13th October 2022   \n",
       "...                                                 ...                  ...   \n",
       "3158  MHNS100005492021 (Note the CNR number for futu...      28th April 2021   \n",
       "3159  MHNS100004402016 (Note the CNR number for futu...        10th May 2016   \n",
       "3160  MHNS110038562022 (Note the CNR number for futu...  21st September 2022   \n",
       "3161  MHNS110022482021 (Note the CNR number for futu...       30th June 2021   \n",
       "3162  MHNS110019402017 (Note the CNR number for futu...  21st September 2017   \n",
       "\n",
       "                 Case Stage             Police Station FIR Number    Year  \\\n",
       "0             Unready Board         WALCHANDNAGAR P.S.        2.0  2022.0   \n",
       "1     Production of Accused                 YAWAT P.S.      601.0  2022.0   \n",
       "2             Unready Board          VADGAON NIMBALKAR      293.0  2022.0   \n",
       "3             Unready Board                 YAWAT P.S.     1085.0  2020.0   \n",
       "4     Production of Accused                 YAWAT P.S.      479.0  2022.0   \n",
       "...                     ...                        ...        ...     ...   \n",
       "3158      Awaiting Muddemal  PIMPALGAON POLICE STATION         22  2021.0   \n",
       "3159                Hearing   LASALGAON POLICE STATION          3  2016.0   \n",
       "3160             Appearance   LASALGAON POLICE STATION        123  2022.0   \n",
       "3161         N.B.W._Unready      NIPHAD POLICE STATION        367  2021.0   \n",
       "3162           Proclomation      NIPHAD POLICE STATION          4  2016.0   \n",
       "\n",
       "     District fir_number  \n",
       "0        Pune     2/2022  \n",
       "1        Pune     1/2022  \n",
       "2        Pune   293/2022  \n",
       "3        Pune    85/2020  \n",
       "4        Pune   479/2022  \n",
       "...       ...        ...  \n",
       "3158   Nashik    22/2021  \n",
       "3159   Nashik     3/2016  \n",
       "3160   Nashik   123/2022  \n",
       "3161   Nashik   367/2021  \n",
       "3162   Nashik     4/2016  \n",
       "\n",
       "[3163 rows x 8 columns]"
      ]
     },
     "execution_count": 22,
     "metadata": {},
     "output_type": "execute_result"
    }
   ],
   "source": [
    "FIVE_DISTRICT"
   ]
  },
  {
   "cell_type": "code",
   "execution_count": 23,
   "id": "f69d2191",
   "metadata": {},
   "outputs": [],
   "source": [
    "FIVE_DISTRICT.columns = FIVE_DISTRICT.columns.str.replace(\" \", \"_\")"
   ]
  },
  {
   "cell_type": "code",
   "execution_count": 24,
   "id": "c37b41d6",
   "metadata": {},
   "outputs": [
    {
     "name": "stderr",
     "output_type": "stream",
     "text": [
      "/var/folders/6g/mf4qklbs63q07skjqqfkj5lw0000gn/T/ipykernel_2758/2377336829.py:1: FutureWarning: The default value of regex will change from True to False in a future version.\n",
      "  FIVE_DISTRICT.CNR_Number = FIVE_DISTRICT.CNR_Number.str.replace(\" \\(Note the CNR number for future reference\\)\", \"\")\n"
     ]
    }
   ],
   "source": [
    "FIVE_DISTRICT.CNR_Number = FIVE_DISTRICT.CNR_Number.str.replace(\" \\(Note the CNR number for future reference\\)\", \"\")"
   ]
  },
  {
   "cell_type": "code",
   "execution_count": 25,
   "id": "f6011ece",
   "metadata": {},
   "outputs": [],
   "source": [
    "#Turning first hearing date column into date-time type\n",
    "\n",
    "FIVE_DISTRICT['dt_type_First_Hearing'] = pd.to_datetime(FIVE_DISTRICT['First_Hearing_Date'])"
   ]
  },
  {
   "cell_type": "code",
   "execution_count": 26,
   "id": "fdca62b3",
   "metadata": {},
   "outputs": [],
   "source": [
    "#This new column shows the period between when the case was registered and when it finally went to trial\n",
    "\n",
    "FIVE_DISTRICT['time_taken_to_reach_trial'] = FIVE_DISTRICT['dt_type_First_Hearing'].dt.year - FIVE_DISTRICT['Year']"
   ]
  },
  {
   "cell_type": "code",
   "execution_count": 27,
   "id": "bb519eae",
   "metadata": {},
   "outputs": [],
   "source": [
    "#This new column shows the period for which each row has been on trial i.e., pending in court as of 2022\n",
    "\n",
    "FIVE_DISTRICT['pending_for'] = 2022 - FIVE_DISTRICT['dt_type_First_Hearing'].dt.year"
   ]
  },
  {
   "cell_type": "code",
   "execution_count": 40,
   "id": "08558f51",
   "metadata": {},
   "outputs": [
    {
     "data": {
      "text/html": [
       "<div>\n",
       "<style scoped>\n",
       "    .dataframe tbody tr th:only-of-type {\n",
       "        vertical-align: middle;\n",
       "    }\n",
       "\n",
       "    .dataframe tbody tr th {\n",
       "        vertical-align: top;\n",
       "    }\n",
       "\n",
       "    .dataframe thead th {\n",
       "        text-align: right;\n",
       "    }\n",
       "</style>\n",
       "<table border=\"1\" class=\"dataframe\">\n",
       "  <thead>\n",
       "    <tr style=\"text-align: right;\">\n",
       "      <th></th>\n",
       "      <th>CNR_Number</th>\n",
       "      <th>First_Hearing_Date</th>\n",
       "      <th>Case_Stage</th>\n",
       "      <th>Police_Station</th>\n",
       "      <th>FIR_Number</th>\n",
       "      <th>Year</th>\n",
       "      <th>District</th>\n",
       "      <th>fir_number</th>\n",
       "      <th>dt_type_First_Hearing</th>\n",
       "      <th>time_taken_to_reach_trial</th>\n",
       "      <th>pending_for</th>\n",
       "    </tr>\n",
       "  </thead>\n",
       "  <tbody>\n",
       "    <tr>\n",
       "      <th>1048</th>\n",
       "      <td>MHPU010070402015</td>\n",
       "      <td>06th July 2015</td>\n",
       "      <td>Evidence Part Heard</td>\n",
       "      <td>SHIVAJINAGAR POLICE STATION</td>\n",
       "      <td>43.0</td>\n",
       "      <td>1015.0</td>\n",
       "      <td>Pune</td>\n",
       "      <td>43/1015</td>\n",
       "      <td>2015-07-06</td>\n",
       "      <td>1000.0</td>\n",
       "      <td>7.0</td>\n",
       "    </tr>\n",
       "  </tbody>\n",
       "</table>\n",
       "</div>"
      ],
      "text/plain": [
       "            CNR_Number First_Hearing_Date           Case_Stage  \\\n",
       "1048  MHPU010070402015     06th July 2015  Evidence Part Heard   \n",
       "\n",
       "                   Police_Station FIR_Number    Year District fir_number  \\\n",
       "1048  SHIVAJINAGAR POLICE STATION       43.0  1015.0     Pune    43/1015   \n",
       "\n",
       "     dt_type_First_Hearing  time_taken_to_reach_trial  pending_for  \n",
       "1048            2015-07-06                     1000.0          7.0  "
      ]
     },
     "execution_count": 40,
     "metadata": {},
     "output_type": "execute_result"
    }
   ],
   "source": [
    "FIVE_DISTRICT[FIVE_DISTRICT.Year == 1015]"
   ]
  },
  {
   "cell_type": "code",
   "execution_count": 29,
   "id": "0e110820",
   "metadata": {},
   "outputs": [],
   "source": [
    "#Updated the dataframe to avoid 8 cases which had year of registration as 0.0\n",
    "FIVE_DISTRICT = FIVE_DISTRICT[FIVE_DISTRICT.Year != 0]"
   ]
  },
  {
   "cell_type": "code",
   "execution_count": 30,
   "id": "850b1aa0",
   "metadata": {},
   "outputs": [
    {
     "data": {
      "text/html": [
       "<div>\n",
       "<style scoped>\n",
       "    .dataframe tbody tr th:only-of-type {\n",
       "        vertical-align: middle;\n",
       "    }\n",
       "\n",
       "    .dataframe tbody tr th {\n",
       "        vertical-align: top;\n",
       "    }\n",
       "\n",
       "    .dataframe thead th {\n",
       "        text-align: right;\n",
       "    }\n",
       "</style>\n",
       "<table border=\"1\" class=\"dataframe\">\n",
       "  <thead>\n",
       "    <tr style=\"text-align: right;\">\n",
       "      <th></th>\n",
       "      <th>District</th>\n",
       "      <th>time_taken_to_reach_trial</th>\n",
       "      <th>district_wise_count</th>\n",
       "    </tr>\n",
       "  </thead>\n",
       "  <tbody>\n",
       "    <tr>\n",
       "      <th>0</th>\n",
       "      <td>Ahmednagar</td>\n",
       "      <td>0.0</td>\n",
       "      <td>115</td>\n",
       "    </tr>\n",
       "    <tr>\n",
       "      <th>1</th>\n",
       "      <td>Ahmednagar</td>\n",
       "      <td>1.0</td>\n",
       "      <td>80</td>\n",
       "    </tr>\n",
       "    <tr>\n",
       "      <th>2</th>\n",
       "      <td>Ahmednagar</td>\n",
       "      <td>2.0</td>\n",
       "      <td>9</td>\n",
       "    </tr>\n",
       "    <tr>\n",
       "      <th>3</th>\n",
       "      <td>Ahmednagar</td>\n",
       "      <td>3.0</td>\n",
       "      <td>3</td>\n",
       "    </tr>\n",
       "    <tr>\n",
       "      <th>4</th>\n",
       "      <td>Ahmednagar</td>\n",
       "      <td>4.0</td>\n",
       "      <td>2</td>\n",
       "    </tr>\n",
       "    <tr>\n",
       "      <th>...</th>\n",
       "      <td>...</td>\n",
       "      <td>...</td>\n",
       "      <td>...</td>\n",
       "    </tr>\n",
       "    <tr>\n",
       "      <th>81</th>\n",
       "      <td>Pune</td>\n",
       "      <td>11.0</td>\n",
       "      <td>1</td>\n",
       "    </tr>\n",
       "    <tr>\n",
       "      <th>82</th>\n",
       "      <td>Pune</td>\n",
       "      <td>13.0</td>\n",
       "      <td>1</td>\n",
       "    </tr>\n",
       "    <tr>\n",
       "      <th>83</th>\n",
       "      <td>Pune</td>\n",
       "      <td>21.0</td>\n",
       "      <td>1</td>\n",
       "    </tr>\n",
       "    <tr>\n",
       "      <th>84</th>\n",
       "      <td>Pune</td>\n",
       "      <td>30.0</td>\n",
       "      <td>1</td>\n",
       "    </tr>\n",
       "    <tr>\n",
       "      <th>85</th>\n",
       "      <td>Pune</td>\n",
       "      <td>1000.0</td>\n",
       "      <td>1</td>\n",
       "    </tr>\n",
       "  </tbody>\n",
       "</table>\n",
       "<p>86 rows × 3 columns</p>\n",
       "</div>"
      ],
      "text/plain": [
       "      District  time_taken_to_reach_trial  district_wise_count\n",
       "0   Ahmednagar                        0.0                  115\n",
       "1   Ahmednagar                        1.0                   80\n",
       "2   Ahmednagar                        2.0                    9\n",
       "3   Ahmednagar                        3.0                    3\n",
       "4   Ahmednagar                        4.0                    2\n",
       "..         ...                        ...                  ...\n",
       "81        Pune                       11.0                    1\n",
       "82        Pune                       13.0                    1\n",
       "83        Pune                       21.0                    1\n",
       "84        Pune                       30.0                    1\n",
       "85        Pune                     1000.0                    1\n",
       "\n",
       "[86 rows x 3 columns]"
      ]
     },
     "execution_count": 30,
     "metadata": {},
     "output_type": "execute_result"
    }
   ],
   "source": [
    "#This provides the number of cases that have taken same number of years to reach trial period.\n",
    "#It seems prudent to mention that this whole dataset is of pending murder cases\n",
    "FIVE_DISTRICT_COUNT = FIVE_DISTRICT.groupby('District')['time_taken_to_reach_trial'].value_counts().reset_index(name='district_wise_count')\n",
    "FIVE_DISTRICT_COUNT"
   ]
  },
  {
   "cell_type": "code",
   "execution_count": 31,
   "id": "c9c607e8",
   "metadata": {},
   "outputs": [
    {
     "data": {
      "text/html": [
       "<div>\n",
       "<style scoped>\n",
       "    .dataframe tbody tr th:only-of-type {\n",
       "        vertical-align: middle;\n",
       "    }\n",
       "\n",
       "    .dataframe tbody tr th {\n",
       "        vertical-align: top;\n",
       "    }\n",
       "\n",
       "    .dataframe thead th {\n",
       "        text-align: right;\n",
       "    }\n",
       "</style>\n",
       "<table border=\"1\" class=\"dataframe\">\n",
       "  <thead>\n",
       "    <tr style=\"text-align: right;\">\n",
       "      <th></th>\n",
       "      <th>District</th>\n",
       "      <th>time_taken_to_reach_trial</th>\n",
       "      <th>district_wise_count_pct</th>\n",
       "    </tr>\n",
       "  </thead>\n",
       "  <tbody>\n",
       "    <tr>\n",
       "      <th>0</th>\n",
       "      <td>Ahmednagar</td>\n",
       "      <td>0.0</td>\n",
       "      <td>0.520362</td>\n",
       "    </tr>\n",
       "    <tr>\n",
       "      <th>1</th>\n",
       "      <td>Ahmednagar</td>\n",
       "      <td>1.0</td>\n",
       "      <td>0.361991</td>\n",
       "    </tr>\n",
       "    <tr>\n",
       "      <th>2</th>\n",
       "      <td>Ahmednagar</td>\n",
       "      <td>2.0</td>\n",
       "      <td>0.040724</td>\n",
       "    </tr>\n",
       "    <tr>\n",
       "      <th>3</th>\n",
       "      <td>Ahmednagar</td>\n",
       "      <td>3.0</td>\n",
       "      <td>0.013575</td>\n",
       "    </tr>\n",
       "    <tr>\n",
       "      <th>4</th>\n",
       "      <td>Ahmednagar</td>\n",
       "      <td>4.0</td>\n",
       "      <td>0.009050</td>\n",
       "    </tr>\n",
       "    <tr>\n",
       "      <th>...</th>\n",
       "      <td>...</td>\n",
       "      <td>...</td>\n",
       "      <td>...</td>\n",
       "    </tr>\n",
       "    <tr>\n",
       "      <th>81</th>\n",
       "      <td>Pune</td>\n",
       "      <td>11.0</td>\n",
       "      <td>0.000751</td>\n",
       "    </tr>\n",
       "    <tr>\n",
       "      <th>82</th>\n",
       "      <td>Pune</td>\n",
       "      <td>13.0</td>\n",
       "      <td>0.000751</td>\n",
       "    </tr>\n",
       "    <tr>\n",
       "      <th>83</th>\n",
       "      <td>Pune</td>\n",
       "      <td>21.0</td>\n",
       "      <td>0.000751</td>\n",
       "    </tr>\n",
       "    <tr>\n",
       "      <th>84</th>\n",
       "      <td>Pune</td>\n",
       "      <td>30.0</td>\n",
       "      <td>0.000751</td>\n",
       "    </tr>\n",
       "    <tr>\n",
       "      <th>85</th>\n",
       "      <td>Pune</td>\n",
       "      <td>1000.0</td>\n",
       "      <td>0.000751</td>\n",
       "    </tr>\n",
       "  </tbody>\n",
       "</table>\n",
       "<p>86 rows × 3 columns</p>\n",
       "</div>"
      ],
      "text/plain": [
       "      District  time_taken_to_reach_trial  district_wise_count_pct\n",
       "0   Ahmednagar                        0.0                 0.520362\n",
       "1   Ahmednagar                        1.0                 0.361991\n",
       "2   Ahmednagar                        2.0                 0.040724\n",
       "3   Ahmednagar                        3.0                 0.013575\n",
       "4   Ahmednagar                        4.0                 0.009050\n",
       "..         ...                        ...                      ...\n",
       "81        Pune                       11.0                 0.000751\n",
       "82        Pune                       13.0                 0.000751\n",
       "83        Pune                       21.0                 0.000751\n",
       "84        Pune                       30.0                 0.000751\n",
       "85        Pune                     1000.0                 0.000751\n",
       "\n",
       "[86 rows x 3 columns]"
      ]
     },
     "execution_count": 31,
     "metadata": {},
     "output_type": "execute_result"
    }
   ],
   "source": [
    "#This provides the percent of cases that have taken same number of years to reach trial period.\n",
    "FIVE_DISTRICT_PERCENT = FIVE_DISTRICT.groupby('District')['time_taken_to_reach_trial'].value_counts(normalize=True).reset_index(name='district_wise_count_pct')\n",
    "FIVE_DISTRICT_PERCENT"
   ]
  },
  {
   "cell_type": "code",
   "execution_count": 38,
   "id": "457a23b4",
   "metadata": {},
   "outputs": [
    {
     "data": {
      "text/html": [
       "<div>\n",
       "<style scoped>\n",
       "    .dataframe tbody tr th:only-of-type {\n",
       "        vertical-align: middle;\n",
       "    }\n",
       "\n",
       "    .dataframe tbody tr th {\n",
       "        vertical-align: top;\n",
       "    }\n",
       "\n",
       "    .dataframe thead th {\n",
       "        text-align: right;\n",
       "    }\n",
       "</style>\n",
       "<table border=\"1\" class=\"dataframe\">\n",
       "  <thead>\n",
       "    <tr style=\"text-align: right;\">\n",
       "      <th></th>\n",
       "      <th>District</th>\n",
       "      <th>time_taken_to_reach_trial</th>\n",
       "      <th>district_wise_count_pct</th>\n",
       "      <th>district_wise_count</th>\n",
       "    </tr>\n",
       "  </thead>\n",
       "  <tbody>\n",
       "    <tr>\n",
       "      <th>0</th>\n",
       "      <td>Ahmednagar</td>\n",
       "      <td>0.0</td>\n",
       "      <td>0.520362</td>\n",
       "      <td>115</td>\n",
       "    </tr>\n",
       "    <tr>\n",
       "      <th>1</th>\n",
       "      <td>Ahmednagar</td>\n",
       "      <td>1.0</td>\n",
       "      <td>0.361991</td>\n",
       "      <td>80</td>\n",
       "    </tr>\n",
       "    <tr>\n",
       "      <th>2</th>\n",
       "      <td>Ahmednagar</td>\n",
       "      <td>2.0</td>\n",
       "      <td>0.040724</td>\n",
       "      <td>9</td>\n",
       "    </tr>\n",
       "    <tr>\n",
       "      <th>3</th>\n",
       "      <td>Ahmednagar</td>\n",
       "      <td>3.0</td>\n",
       "      <td>0.013575</td>\n",
       "      <td>3</td>\n",
       "    </tr>\n",
       "    <tr>\n",
       "      <th>4</th>\n",
       "      <td>Ahmednagar</td>\n",
       "      <td>4.0</td>\n",
       "      <td>0.009050</td>\n",
       "      <td>2</td>\n",
       "    </tr>\n",
       "  </tbody>\n",
       "</table>\n",
       "</div>"
      ],
      "text/plain": [
       "     District  time_taken_to_reach_trial  district_wise_count_pct  \\\n",
       "0  Ahmednagar                        0.0                 0.520362   \n",
       "1  Ahmednagar                        1.0                 0.361991   \n",
       "2  Ahmednagar                        2.0                 0.040724   \n",
       "3  Ahmednagar                        3.0                 0.013575   \n",
       "4  Ahmednagar                        4.0                 0.009050   \n",
       "\n",
       "   district_wise_count  \n",
       "0                  115  \n",
       "1                   80  \n",
       "2                    9  \n",
       "3                    3  \n",
       "4                    2  "
      ]
     },
     "execution_count": 38,
     "metadata": {},
     "output_type": "execute_result"
    }
   ],
   "source": [
    "#The percent and count tables were merged in order to give a clearer picture.\n",
    "#Merge command commented out because it kept messing with the dataframe everytime I ran it.\n",
    "New_df = pd.merge(FIVE_DISTRICT_PERCENT, FIVE_DISTRICT_COUNT)\n",
    "New_df.head()"
   ]
  },
  {
   "cell_type": "code",
   "execution_count": 33,
   "id": "5bf6a3ab",
   "metadata": {},
   "outputs": [],
   "source": [
    "#Changing the formats in order to make it fit for properties.article\n",
    "\n",
    "New_df['district_wise_count_pct'] = New_df['district_wise_count_pct']*100\n",
    "New_df['district_wise_count'] = New_df['district_wise_count'].astype(str)"
   ]
  },
  {
   "cell_type": "code",
   "execution_count": 34,
   "id": "ea287dfd",
   "metadata": {},
   "outputs": [],
   "source": [
    "#Rounding up the numbers for the map\n",
    "New_df['district_wise_count_pct'] = New_df['district_wise_count_pct'].round(3)"
   ]
  },
  {
   "cell_type": "code",
   "execution_count": 35,
   "id": "5745f493",
   "metadata": {},
   "outputs": [],
   "source": [
    "#Changed the data type to integer from float to fit in the article statement\n",
    "New_df['time_taken_to_reach_trial'] = New_df['time_taken_to_reach_trial'].astype(int)"
   ]
  },
  {
   "cell_type": "code",
   "execution_count": 36,
   "id": "835c9d39",
   "metadata": {},
   "outputs": [],
   "source": [
    "#Building the article sentence\n",
    "\n",
    "New_df['string'] = \"In \" + New_df['District'] + \" district \" + New_df['district_wise_count'].astype(str) + np.where(New_df[\"district_wise_count\"] > '1', ' murder cases', ' murder case') + \" took\" + \" \" + New_df['time_taken_to_reach_trial'].astype(str) + \" years to reach trial.\" + np.where(New_df[\"district_wise_count\"] == '1', \" It accounts\", \" They account\") + \" for \" + New_df['district_wise_count_pct'].astype(str) + \"% of total pending cases.\" "
   ]
  },
  {
   "cell_type": "code",
   "execution_count": 37,
   "id": "8ddb2178",
   "metadata": {},
   "outputs": [
    {
     "data": {
      "text/html": [
       "<div>\n",
       "<style scoped>\n",
       "    .dataframe tbody tr th:only-of-type {\n",
       "        vertical-align: middle;\n",
       "    }\n",
       "\n",
       "    .dataframe tbody tr th {\n",
       "        vertical-align: top;\n",
       "    }\n",
       "\n",
       "    .dataframe thead th {\n",
       "        text-align: right;\n",
       "    }\n",
       "</style>\n",
       "<table border=\"1\" class=\"dataframe\">\n",
       "  <thead>\n",
       "    <tr style=\"text-align: right;\">\n",
       "      <th></th>\n",
       "      <th>District</th>\n",
       "      <th>time_taken_to_reach_trial</th>\n",
       "      <th>district_wise_count_pct</th>\n",
       "      <th>district_wise_count</th>\n",
       "      <th>string</th>\n",
       "    </tr>\n",
       "  </thead>\n",
       "  <tbody>\n",
       "    <tr>\n",
       "      <th>0</th>\n",
       "      <td>Ahmednagar</td>\n",
       "      <td>0</td>\n",
       "      <td>52.036</td>\n",
       "      <td>115</td>\n",
       "      <td>In Ahmednagar district 115 murder cases took 0...</td>\n",
       "    </tr>\n",
       "    <tr>\n",
       "      <th>1</th>\n",
       "      <td>Ahmednagar</td>\n",
       "      <td>1</td>\n",
       "      <td>36.199</td>\n",
       "      <td>80</td>\n",
       "      <td>In Ahmednagar district 80 murder cases took 1 ...</td>\n",
       "    </tr>\n",
       "    <tr>\n",
       "      <th>2</th>\n",
       "      <td>Ahmednagar</td>\n",
       "      <td>2</td>\n",
       "      <td>4.072</td>\n",
       "      <td>9</td>\n",
       "      <td>In Ahmednagar district 9 murder cases took 2 y...</td>\n",
       "    </tr>\n",
       "    <tr>\n",
       "      <th>3</th>\n",
       "      <td>Ahmednagar</td>\n",
       "      <td>3</td>\n",
       "      <td>1.357</td>\n",
       "      <td>3</td>\n",
       "      <td>In Ahmednagar district 3 murder cases took 3 y...</td>\n",
       "    </tr>\n",
       "    <tr>\n",
       "      <th>4</th>\n",
       "      <td>Ahmednagar</td>\n",
       "      <td>4</td>\n",
       "      <td>0.905</td>\n",
       "      <td>2</td>\n",
       "      <td>In Ahmednagar district 2 murder cases took 4 y...</td>\n",
       "    </tr>\n",
       "    <tr>\n",
       "      <th>5</th>\n",
       "      <td>Ahmednagar</td>\n",
       "      <td>5</td>\n",
       "      <td>0.905</td>\n",
       "      <td>2</td>\n",
       "      <td>In Ahmednagar district 2 murder cases took 5 y...</td>\n",
       "    </tr>\n",
       "    <tr>\n",
       "      <th>6</th>\n",
       "      <td>Ahmednagar</td>\n",
       "      <td>10</td>\n",
       "      <td>0.905</td>\n",
       "      <td>2</td>\n",
       "      <td>In Ahmednagar district 2 murder cases took 10 ...</td>\n",
       "    </tr>\n",
       "    <tr>\n",
       "      <th>7</th>\n",
       "      <td>Ahmednagar</td>\n",
       "      <td>6</td>\n",
       "      <td>0.452</td>\n",
       "      <td>1</td>\n",
       "      <td>In Ahmednagar district 1 murder case took 6 ye...</td>\n",
       "    </tr>\n",
       "    <tr>\n",
       "      <th>8</th>\n",
       "      <td>Ahmednagar</td>\n",
       "      <td>8</td>\n",
       "      <td>0.452</td>\n",
       "      <td>1</td>\n",
       "      <td>In Ahmednagar district 1 murder case took 8 ye...</td>\n",
       "    </tr>\n",
       "    <tr>\n",
       "      <th>9</th>\n",
       "      <td>Ahmednagar</td>\n",
       "      <td>9</td>\n",
       "      <td>0.452</td>\n",
       "      <td>1</td>\n",
       "      <td>In Ahmednagar district 1 murder case took 9 ye...</td>\n",
       "    </tr>\n",
       "  </tbody>\n",
       "</table>\n",
       "</div>"
      ],
      "text/plain": [
       "     District  time_taken_to_reach_trial  district_wise_count_pct  \\\n",
       "0  Ahmednagar                          0                   52.036   \n",
       "1  Ahmednagar                          1                   36.199   \n",
       "2  Ahmednagar                          2                    4.072   \n",
       "3  Ahmednagar                          3                    1.357   \n",
       "4  Ahmednagar                          4                    0.905   \n",
       "5  Ahmednagar                          5                    0.905   \n",
       "6  Ahmednagar                         10                    0.905   \n",
       "7  Ahmednagar                          6                    0.452   \n",
       "8  Ahmednagar                          8                    0.452   \n",
       "9  Ahmednagar                          9                    0.452   \n",
       "\n",
       "  district_wise_count                                             string  \n",
       "0                 115  In Ahmednagar district 115 murder cases took 0...  \n",
       "1                  80  In Ahmednagar district 80 murder cases took 1 ...  \n",
       "2                   9  In Ahmednagar district 9 murder cases took 2 y...  \n",
       "3                   3  In Ahmednagar district 3 murder cases took 3 y...  \n",
       "4                   2  In Ahmednagar district 2 murder cases took 4 y...  \n",
       "5                   2  In Ahmednagar district 2 murder cases took 5 y...  \n",
       "6                   2  In Ahmednagar district 2 murder cases took 10 ...  \n",
       "7                   1  In Ahmednagar district 1 murder case took 6 ye...  \n",
       "8                   1  In Ahmednagar district 1 murder case took 8 ye...  \n",
       "9                   1  In Ahmednagar district 1 murder case took 9 ye...  "
      ]
     },
     "execution_count": 37,
     "metadata": {},
     "output_type": "execute_result"
    }
   ],
   "source": [
    "New_df.head(10)"
   ]
  },
  {
   "cell_type": "code",
   "execution_count": null,
   "id": "1d85a2e1",
   "metadata": {},
   "outputs": [],
   "source": [
    "#This adds html elements to the properties.article column\n",
    "\n",
    "output_2 = New_df.groupby('District')['string'].apply(lambda x: \"<div class='movie_list'><h1><b>Rotting Cases in Indian Courts</b></h1><P>{0}</P></div>\".format('</p><p> '.join(x))).reset_index(name='properties.article')\n",
    "output_2"
   ]
  },
  {
   "cell_type": "code",
   "execution_count": null,
   "id": "a2eafd79",
   "metadata": {},
   "outputs": [],
   "source": [
    "#Spot check\n",
    "\n",
    "output_2.iloc[2]['properties.article']"
   ]
  },
  {
   "cell_type": "code",
   "execution_count": null,
   "id": "e3d57a5c",
   "metadata": {},
   "outputs": [],
   "source": [
    "#Adding properties.headline\n",
    "\n",
    "#total_cases_num = FIVE_DISTRICT.groupby('District')['FIR_Number'].nunique().reset_index(name='properties.headline')\n",
    "total_cases_num.to_csv('total_pending_murder_cases.csv', index=False)"
   ]
  },
  {
   "cell_type": "code",
   "execution_count": null,
   "id": "d148b60c",
   "metadata": {},
   "outputs": [],
   "source": [
    "#Merging the dataset to get one row/location\n",
    "#Commented out to avoid messup.\n",
    "\n",
    "DATA = output_2.merge(total_cases_num, how='left', on='District')\n",
    "DATA"
   ]
  },
  {
   "cell_type": "code",
   "execution_count": null,
   "id": "88206f09",
   "metadata": {},
   "outputs": [],
   "source": [
    "#Making headline readable for map viewer\n",
    "DATA['properties.headline'] = DATA['properties.headline'].astype(str) + ' murder cases are pending trial here'"
   ]
  },
  {
   "cell_type": "code",
   "execution_count": null,
   "id": "6d20b0da",
   "metadata": {},
   "outputs": [],
   "source": [
    "#Spot check\n",
    "\n",
    "DATA.iloc[2]['properties.headline']"
   ]
  },
  {
   "cell_type": "code",
   "execution_count": null,
   "id": "94b04ca1",
   "metadata": {},
   "outputs": [],
   "source": [
    "#CLEANUP, BECAUSE I MESSED UP AND ADDED STRING THREE TIMES\n",
    "\n",
    "DATA['properties.headline'] = DATA['properties.headline'].str.replace(\"murder cases are pending trial here murder cases are pending trial here murder cases are pending trial here\", \"\")"
   ]
  },
  {
   "cell_type": "code",
   "execution_count": null,
   "id": "349407e2",
   "metadata": {},
   "outputs": [],
   "source": [
    "#Now adding the string back to headlines\n",
    "DATA['properties.headline'] = DATA['properties.headline'].astype(str) + ' murder cases are pending trial here'"
   ]
  },
  {
   "cell_type": "code",
   "execution_count": null,
   "id": "d1dc8056",
   "metadata": {},
   "outputs": [],
   "source": [
    "#Spot check 2\n",
    "DATA.iloc[2]['properties.headline']"
   ]
  },
  {
   "cell_type": "code",
   "execution_count": null,
   "id": "44a655fe",
   "metadata": {},
   "outputs": [],
   "source": [
    "DATA"
   ]
  },
  {
   "cell_type": "code",
   "execution_count": null,
   "id": "2b13af59",
   "metadata": {},
   "outputs": [],
   "source": [
    "#Stole this code from Jon's notebook\n",
    "def by_color(cell):\n",
    "    if cell == \"Something something\":\n",
    "        num = 0\n",
    "    else:\n",
    "        num = int(cell)\n",
    "    if num >= 8:\n",
    "        return \"#0000FF\"\n",
    "    elif num >= 4:\n",
    "        return \"#00FF00\"\n",
    "    else:\n",
    "        return \"#FF0000\""
   ]
  },
  {
   "cell_type": "code",
   "execution_count": null,
   "id": "60459333",
   "metadata": {},
   "outputs": [],
   "source": [
    "#Applying the colour selector function and creating a color column\n",
    "\n",
    "DATA['properties.color'] = DATA.apply(lambda x: rand_color(), axis=1)"
   ]
  },
  {
   "cell_type": "code",
   "execution_count": null,
   "id": "22de9964",
   "metadata": {},
   "outputs": [],
   "source": [
    "DATA"
   ]
  },
  {
   "cell_type": "code",
   "execution_count": null,
   "id": "dd06de67",
   "metadata": {},
   "outputs": [],
   "source": [
    "#Spot check 3\n",
    "\n",
    "DATA.iloc[2]['properties.article']\n",
    "\n",
    "#The data is now ready to be merged with geo data"
   ]
  },
  {
   "cell_type": "markdown",
   "id": "a6d92533",
   "metadata": {},
   "source": [
    "### I found a file on the GitHub of [Hindustan Times](https://github.com/HindustanTimesLabs/shapefiles/blob/master/india/district/india_2011_district.zip) that had shape files for all districts in India\n",
    "\n",
    "### I put it in Mapshaper and exported it in geojson format"
   ]
  },
  {
   "cell_type": "code",
   "execution_count": null,
   "id": "da102d4d",
   "metadata": {},
   "outputs": [],
   "source": [
    "##Load the geojson file Exported from Mapshaper\n",
    "\n",
    "with open('India_districts.geojson') as json_data:\n",
    "    geometry_data = json.load(json_data)"
   ]
  },
  {
   "cell_type": "code",
   "execution_count": null,
   "id": "b19ad74f",
   "metadata": {},
   "outputs": [],
   "source": [
    "geometry_data['features']"
   ]
  },
  {
   "cell_type": "code",
   "execution_count": null,
   "id": "cd354c7f",
   "metadata": {},
   "outputs": [],
   "source": [
    "# Ran the geojson through pandas to make it tabular/readable\n",
    "df = pd.DataFrame.from_dict(json_normalize(geometry_data['features']), orient='columns')\n",
    "df.head()"
   ]
  },
  {
   "cell_type": "code",
   "execution_count": null,
   "id": "2ec991d0",
   "metadata": {},
   "outputs": [],
   "source": [
    "#Dropped columns that were redundant\n",
    "\n",
    "df2 = df.drop(df.columns[[0, 1, 2, 3, 4]], axis=1)"
   ]
  },
  {
   "cell_type": "code",
   "execution_count": null,
   "id": "bbaa4154",
   "metadata": {},
   "outputs": [],
   "source": [
    "df2.head()"
   ]
  },
  {
   "cell_type": "markdown",
   "id": "0d5ba598",
   "metadata": {},
   "source": [
    "#### 1. Spot check for all districts' names due to spelling mistakes\n",
    "#### 2. Change spelling using df.replace"
   ]
  },
  {
   "cell_type": "code",
   "execution_count": null,
   "id": "ec3e77df",
   "metadata": {},
   "outputs": [],
   "source": [
    "#Beed\n",
    "df2[df2['properties.district'] == 'Bid'] = df2[df2['properties.district'] == 'Bid'].replace(\"Bid\", \"Beed\")"
   ]
  },
  {
   "cell_type": "code",
   "execution_count": null,
   "id": "b3eb4754",
   "metadata": {},
   "outputs": [],
   "source": [
    "#Ahmednagar\n",
    "df2[df2['properties.district'] == 'Ahmadnagar'] = df2[df2['properties.district'] == 'Ahmadnagar'].replace(\"Ahmadnagar\", \"Ahmednagar\")"
   ]
  },
  {
   "cell_type": "code",
   "execution_count": null,
   "id": "12cdc3e6",
   "metadata": {},
   "outputs": [],
   "source": [
    "#These three were fine\n",
    "df2[df2['properties.district'] == 'Nashik']\n",
    "df2[df2['properties.district'] == 'Pune']\n",
    "df2[df2['properties.district'] == 'Nagpur']"
   ]
  },
  {
   "cell_type": "markdown",
   "id": "cc805293",
   "metadata": {},
   "source": [
    "# My data + merging geo columns for the map"
   ]
  },
  {
   "cell_type": "code",
   "execution_count": null,
   "id": "6e9ac411",
   "metadata": {},
   "outputs": [],
   "source": [
    "DATA"
   ]
  },
  {
   "cell_type": "code",
   "execution_count": null,
   "id": "c6ecd740",
   "metadata": {},
   "outputs": [],
   "source": [
    "#merging my districts data\n",
    "#Sentence commented out to avoid mess-up\n",
    "results = pd.merge(df2, DATA, left_on='properties.district', right_on='District')\n",
    "results"
   ]
  },
  {
   "cell_type": "markdown",
   "id": "ab8b0f8c",
   "metadata": {},
   "source": [
    "### Turning result into geojson"
   ]
  },
  {
   "cell_type": "code",
   "execution_count": null,
   "id": "a4d7ff92",
   "metadata": {},
   "outputs": [],
   "source": [
    "ok_json = json.loads(results.to_json(orient='records'))"
   ]
  },
  {
   "cell_type": "code",
   "execution_count": null,
   "id": "02d751fc",
   "metadata": {},
   "outputs": [],
   "source": [
    "ok_json"
   ]
  },
  {
   "cell_type": "code",
   "execution_count": null,
   "id": "8e920776",
   "metadata": {},
   "outputs": [],
   "source": [
    "def process_to_geojson(file):\n",
    "    geo_data = {\"type\": \"FeatureCollection\", \"features\":[]}\n",
    "    for row in file:\n",
    "        this_dict = {\"type\": \"Feature\", \"properties\":{}, \"geometry\": {}}\n",
    "        for key, value in row.items():\n",
    "            key_names = key.split('.')\n",
    "            if key_names[0] == 'geometry':\n",
    "                this_dict['geometry'][key_names[1]] = value\n",
    "            if str(key_names[0]) == 'properties':\n",
    "                this_dict['properties'][key_names[1]] = value\n",
    "        geo_data['features'].append(this_dict)\n",
    "    return geo_data"
   ]
  },
  {
   "cell_type": "code",
   "execution_count": null,
   "id": "e110a3dc",
   "metadata": {},
   "outputs": [],
   "source": [
    "geo_format = process_to_geojson(ok_json)"
   ]
  },
  {
   "cell_type": "code",
   "execution_count": null,
   "id": "0b34a488",
   "metadata": {},
   "outputs": [],
   "source": [
    "geo_format"
   ]
  },
  {
   "cell_type": "code",
   "execution_count": null,
   "id": "f59e6cce",
   "metadata": {},
   "outputs": [],
   "source": [
    "#Variable name\n",
    "with open('geo-data12-6.js', 'w') as outfile:\n",
    "    outfile.write(\"var infoData = \")\n",
    "#geojson output\n",
    "with open('geo-data12-6.js', 'a') as outfile:\n",
    "    json.dump(geo_format, outfile)"
   ]
  }
 ],
 "metadata": {
  "kernelspec": {
   "display_name": "Python 3 (ipykernel)",
   "language": "python",
   "name": "python3"
  },
  "language_info": {
   "codemirror_mode": {
    "name": "ipython",
    "version": 3
   },
   "file_extension": ".py",
   "mimetype": "text/x-python",
   "name": "python",
   "nbconvert_exporter": "python",
   "pygments_lexer": "ipython3",
   "version": "3.11.0rc2"
  }
 },
 "nbformat": 4,
 "nbformat_minor": 5
}
