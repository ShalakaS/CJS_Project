{
 "cells": [
  {
   "cell_type": "code",
   "execution_count": 34,
   "id": "f0426820",
   "metadata": {},
   "outputs": [],
   "source": [
    "import pandas as pd\n",
    "from playwright.async_api import async_playwright\n",
    "playwright = await async_playwright().start()\n",
    "browser = await playwright.chromium.launch(headless = False)\n",
    "page = await browser.new_page()\n",
    "from tqdm.notebook import tqdm\n",
    "import time\n",
    "import pdb\n",
    "import csv\n",
    "from PIL import Image\n",
    "import requests\n",
    "import pytesseract"
   ]
  },
  {
   "cell_type": "code",
   "execution_count": 35,
   "id": "218f3132",
   "metadata": {},
   "outputs": [],
   "source": [
    "url = 'https://services.ecourts.gov.in/ecourtindia_v6/?p=casestatus/index&app_token=c3c41da3cb5e335b69849006e4de6372a40dda722a50a46fd80a9086c896e86b'"
   ]
  },
  {
   "cell_type": "code",
   "execution_count": 36,
   "id": "07858e9d",
   "metadata": {},
   "outputs": [
    {
     "data": {
      "text/plain": [
       "<Response url='https://services.ecourts.gov.in/ecourtindia_v6/?p=casestatus/index&app_token=c3c41da3cb5e335b69849006e4de6372a40dda722a50a46fd80a9086c896e86b' request=<Request url='https://services.ecourts.gov.in/ecourtindia_v6/?p=casestatus/index&app_token=c3c41da3cb5e335b69849006e4de6372a40dda722a50a46fd80a9086c896e86b' method='GET'>>"
      ]
     },
     "execution_count": 36,
     "metadata": {},
     "output_type": "execute_result"
    }
   ],
   "source": [
    "await page.goto(url)"
   ]
  },
  {
   "cell_type": "code",
   "execution_count": 37,
   "id": "7e7b22ca",
   "metadata": {},
   "outputs": [],
   "source": [
    "await page.locator('.alert-danger-cust').get_by_text('Select state, district and court complex to proceed further', exact=True).wait_for()\n",
    "await page.locator('//*[@id=\"validateError\"]/div/div/div[1]/button').click()"
   ]
  },
  {
   "cell_type": "code",
   "execution_count": 38,
   "id": "bc76d82e",
   "metadata": {},
   "outputs": [
    {
     "data": {
      "text/plain": [
       "['1']"
      ]
     },
     "execution_count": 38,
     "metadata": {},
     "output_type": "execute_result"
    }
   ],
   "source": [
    "await page.locator('#sess_state_code').select_option('1')"
   ]
  },
  {
   "cell_type": "code",
   "execution_count": 39,
   "id": "85af3bcd",
   "metadata": {},
   "outputs": [
    {
     "data": {
      "text/plain": [
       "['26']"
      ]
     },
     "execution_count": 39,
     "metadata": {},
     "output_type": "execute_result"
    }
   ],
   "source": [
    "await page.locator('#sess_dist_code').select_option('26')"
   ]
  },
  {
   "cell_type": "markdown",
   "id": "4d94571c",
   "metadata": {},
   "source": [
    "### Ahmednagar, Kopergaon, and Shrirampur are three district courts in Ahmednagar district."
   ]
  },
  {
   "cell_type": "code",
   "execution_count": 40,
   "id": "3f1a0e25",
   "metadata": {},
   "outputs": [
    {
     "data": {
      "text/plain": [
       "['1010322@18,19,20@N']"
      ]
     },
     "execution_count": 40,
     "metadata": {},
     "output_type": "execute_result"
    }
   ],
   "source": [
    "#Ahmednagar\n",
    "#await page.locator('#court_complex_code').select_option('1010320@1@N')\n",
    "#Kopergaon\n",
    "#await page.locator('#court_complex_code').select_option('1010319@7,8,9@N')\n",
    "#Shrirampur\n",
    "await page.locator('#court_complex_code').select_option('1010322@18,19,20@N')"
   ]
  },
  {
   "cell_type": "code",
   "execution_count": 41,
   "id": "b18529d4",
   "metadata": {},
   "outputs": [],
   "source": [
    "await page.locator('//*[@id=\"act-tabMenu\"]').click()"
   ]
  },
  {
   "cell_type": "code",
   "execution_count": 42,
   "id": "afbb04a1",
   "metadata": {},
   "outputs": [
    {
     "data": {
      "text/plain": [
       "['1']"
      ]
     },
     "execution_count": 42,
     "metadata": {},
     "output_type": "execute_result"
    }
   ],
   "source": [
    "await page.locator('#actcode').select_option('1')"
   ]
  },
  {
   "cell_type": "code",
   "execution_count": 43,
   "id": "1a9bab1f",
   "metadata": {},
   "outputs": [],
   "source": [
    "await page.locator('#under_sec').fill('302')"
   ]
  },
  {
   "cell_type": "code",
   "execution_count": 44,
   "id": "13ec2884",
   "metadata": {},
   "outputs": [],
   "source": [
    "await page.locator('#radPAct').click()"
   ]
  },
  {
   "cell_type": "code",
   "execution_count": 45,
   "id": "9b64432c",
   "metadata": {},
   "outputs": [
    {
     "name": "stdout",
     "output_type": "stream",
     "text": [
      "Saved as captcha.png\n"
     ]
    }
   ],
   "source": [
    "captcha_image = await page.locator('#div_captcha_act #captcha_image').screenshot(type='png')\n",
    "\n",
    "with open('captcha.png', 'wb') as fp:\n",
    "    print(\"Saved as captcha.png\")\n",
    "    fp.write(captcha_image)"
   ]
  },
  {
   "cell_type": "code",
   "execution_count": 46,
   "id": "57c911f1",
   "metadata": {},
   "outputs": [
    {
     "data": {
      "image/png": "[encoded data removed]",
      "text/plain": [
       "<PIL.PngImagePlugin.PngImageFile image mode=RGBA size=121x46>"
      ]
     },
     "execution_count": 46,
     "metadata": {},
     "output_type": "execute_result"
    }
   ],
   "source": [
    "image = Image.open('captcha.png')\n",
    "image"
   ]
  },
  {
   "cell_type": "code",
   "execution_count": 47,
   "id": "db01e9a2",
   "metadata": {},
   "outputs": [
    {
     "data": {
      "text/plain": [
       "'nal5tw'"
      ]
     },
     "execution_count": 47,
     "metadata": {},
     "output_type": "execute_result"
    }
   ],
   "source": [
    "answer = pytesseract.image_to_string(image).strip()\n",
    "answer"
   ]
  },
  {
   "cell_type": "code",
   "execution_count": 48,
   "id": "8ebad52d",
   "metadata": {},
   "outputs": [],
   "source": [
    "await page.locator('#act_captcha_code').fill(answer)"
   ]
  },
  {
   "cell_type": "code",
   "execution_count": 49,
   "id": "dc96023b",
   "metadata": {},
   "outputs": [],
   "source": [
    "await page.locator('//*[@id=\"frm_act\"]/div[3]/div[2]/button').click()"
   ]
  },
  {
   "cell_type": "code",
   "execution_count": 50,
   "id": "f536cc3c",
   "metadata": {},
   "outputs": [],
   "source": [
    "table_1 = await page.query_selector_all('tr')\n",
    "\n",
    "for row in table_1:\n",
    "    print(await row.text_content())"
   ]
  },
  {
   "cell_type": "code",
   "execution_count": 26,
   "id": "401b8caf",
   "metadata": {},
   "outputs": [],
   "source": [
    "# headers = ['case_id', 'case_title', 'court_name', ' Case Type', ' Filing Number ',\n",
    "#        'Registration Number', 'CNR Number', 'First Hearing Date',\n",
    "#        'Next Hearing Date', 'Case Stage', 'News and Events and Judge', 'Court Number and Judge',\n",
    "#        'Court Number and Name', 'Case Number and Year', 'Case Decision Date',\n",
    "#        'Police Station', 'FIR Number', 'Year', 'petitioner_and_advocate',\n",
    "#        'respondent_and_advocate','Case Transferred from Establishment', 'Transfer Date', 'Case Transferred to Establishment']\n",
    "\n",
    "# with open('AHMEDNAGAR_SHRIRAMPUR_pending_case_data.csv', 'w') as csvfile:\n",
    "#     writer = csv.writer(csvfile) # define a writer\n",
    "#     writer.writerow(headers) # write the row"
   ]
  },
  {
   "cell_type": "code",
   "execution_count": 27,
   "id": "e6221267",
   "metadata": {},
   "outputs": [],
   "source": [
    "# async def view_button_click_and_close_error_message(row):\n",
    "#     view_button = await row.query_selector('a')\n",
    "#     await view_button.click()\n",
    "# #     print('clicked view button')\n",
    "#     error_button = await page.query_selector('//*[@id=\"validateError\"]/div/div/div[1]/button')\n",
    "#     if error_button.is_visible():\n",
    "#         await error_button.click()\n",
    "# #         print('found error button')\n",
    "#         raise Exception('error after clicking view')"
   ]
  },
  {
   "cell_type": "markdown",
   "id": "2f1980c9",
   "metadata": {},
   "source": [
    "# Function_1 scrape_weird_first_table()"
   ]
  },
  {
   "cell_type": "code",
   "execution_count": 28,
   "id": "0eb26c15",
   "metadata": {},
   "outputs": [],
   "source": [
    "async def scrape_weird_first_table(table):\n",
    "    case_detail_table = {}\n",
    "    all_trs = await table.query_selector_all('tr')\n",
    "    for tr in all_trs:\n",
    "        key_element = await tr.query_selector_all('td')\n",
    "        key = await key_element[0].text_content()\n",
    "        value_element = await tr.query_selector_all('td')\n",
    "        value = await value_element[1].text_content()\n",
    "        case_detail_table[key] = value\n",
    "    return case_detail_table"
   ]
  },
  {
   "cell_type": "markdown",
   "id": "60e46ebf",
   "metadata": {},
   "source": [
    "# Function_2 scrape_side_by_side_table()"
   ]
  },
  {
   "cell_type": "code",
   "execution_count": 29,
   "id": "74117dbb",
   "metadata": {},
   "outputs": [],
   "source": [
    "async def scrape_side_by_side_table(table):\n",
    "    case_status_table = {}\n",
    "    all_trs = await table.query_selector_all('tr')\n",
    "    for tr in all_trs:\n",
    "        all_tds = await tr.query_selector_all('td')\n",
    "        if len(all_tds) == 2:\n",
    "            left_column = await tr.query_selector_all('td')\n",
    "            keys = await left_column[0].text_content()\n",
    "            right_column = await tr.query_selector_all('td')\n",
    "            values = await right_column[1].text_content()\n",
    "            case_status_table[keys] = values\n",
    "        else:\n",
    "            pass\n",
    "    return case_status_table"
   ]
  },
  {
   "cell_type": "markdown",
   "id": "8981eb0a",
   "metadata": {},
   "source": [
    "# Function_3 scrape_dataframe_style_table()"
   ]
  },
  {
   "cell_type": "code",
   "execution_count": 30,
   "id": "1c93c725",
   "metadata": {},
   "outputs": [],
   "source": [
    "async def scrape_dataframe_style_table(table):\n",
    "    tables = pd.read_html(await page.content())\n",
    "    return tables[5]"
   ]
  },
  {
   "cell_type": "markdown",
   "id": "31ddc9a8",
   "metadata": {},
   "source": [
    "# Scraping (Petitioner + Respondent) & Advocates\n",
    "\n",
    "## petitioner_and_advocate_table\n",
    "#### Save all tds in form of a list and add the list as value to the result dictionary\n",
    "#### This will take care of pages where there are multiple tds which means multiple petitioners"
   ]
  },
  {
   "cell_type": "code",
   "execution_count": 31,
   "id": "ac343911",
   "metadata": {},
   "outputs": [],
   "source": [
    "# petitioner_and_advocate_table = await page.query_selector('#CSact .Petitioner_Advocate_table')\n",
    "# all_trs = await petitioner_and_advocate_table.query_selector_all('tr')\n",
    "# petitioner_advocate = {}\n",
    "# petitioner_and_advocate = []\n",
    "# for tr in all_trs:\n",
    "#     all_tds = await tr.query_selector_all('td')\n",
    "#     for td in all_tds:\n",
    "#         petitioner_and_advocate.append(await td.text_content())\n",
    "#         petitioner_advocate['petitioner_and_advocate'] = petitioner_and_advocate\n",
    "#     print(petitioner_advocate)          "
   ]
  },
  {
   "cell_type": "markdown",
   "id": "ed65e44b",
   "metadata": {},
   "source": [
    "## respondent_and_advocate_table\n",
    "#### Save all tds in form of a list and add the list as value to the result dictionary\n",
    "#### This will take care of pages where there are multiple tds which means multiple respondents"
   ]
  },
  {
   "cell_type": "code",
   "execution_count": 32,
   "id": "31e43752",
   "metadata": {},
   "outputs": [],
   "source": [
    "# respondent_and_advocate_table = await page.query_selector('#CSact .Respondent_Advocate_table')\n",
    "# all_trs = await respondent_and_advocate_table.query_selector_all('tr')\n",
    "# respondent_advocate = {}\n",
    "# respondent_and_advocate = []\n",
    "# for tr in all_trs:\n",
    "#     all_tds = await tr.query_selector_all('td')\n",
    "#     for td in all_tds:\n",
    "#         respondent_and_advocate.append(await td.text_content())\n",
    "#         respondent_advocate['respondent_and_advocate'] = respondent_and_advocate\n",
    "#     print(respondent_advocate)     "
   ]
  },
  {
   "cell_type": "code",
   "execution_count": 33,
   "id": "ad3fb6d7",
   "metadata": {
    "scrolled": true
   },
   "outputs": [
    {
     "data": {
      "application/vnd.jupyter.widget-view+json": {
       "model_id": "ffff5e94c58b4d37a926d53fb1e5cdff",
       "version_major": 2,
       "version_minor": 0
      },
      "text/plain": [
       "  0%|          | 0/77 [00:00<?, ?it/s]"
      ]
     },
     "metadata": {},
     "output_type": "display_data"
    },
    {
     "name": "stdout",
     "output_type": "stream",
     "text": [
      "Scraping R.C.C./277/2020\n",
      "Failed to scrape lower court table\n",
      "Scraping Sessions Case/45/2022\n",
      "Failed to scrape lower court table\n",
      "Scraping Sessions Case/37/2022\n",
      "Failed to scrape lower court table\n",
      "Scraping Sessions Case/1/2022\n",
      "Failed to scrape lower court table\n",
      "Scraping Sessions Case/24/2021\n",
      "Failed to scrape lower court table\n",
      "Scraping Sessions Case/23/2021\n",
      "Failed to scrape lower court table\n",
      "Scraping Sessions Case/15/2021\n",
      "Failed to scrape lower court table\n",
      "Scraping Sessions Case/10/2021\n",
      "Failed to scrape lower court table\n",
      "Scraping Sessions Case/25/2020\n",
      "Failed to scrape lower court table\n",
      "Scraping Sessions Case/21/2020\n",
      "Failed to scrape lower court table\n",
      "Scraping Sessions Case/18/2020\n",
      "Failed to scrape lower court table\n",
      "Scraping Sessions Case/4/2020\n",
      "Failed to scrape lower court table\n",
      "Scraping Sessions Case/81/2019\n",
      "Failed to scrape lower court table\n",
      "Scraping Sessions Case/74/2019\n",
      "Failed to scrape lower court table\n",
      "Scraping Sessions Case/69/2019\n",
      "Failed to scrape lower court table\n",
      "Scraping Sessions Case/50/2019\n",
      "Failed to scrape lower court table\n",
      "Scraping Sessions Case/42/2019\n",
      "Failed to scrape lower court table\n",
      "Scraping Sessions Case/6/2019\n",
      "Failed to scrape lower court table\n",
      "Scraping Sessions Case/30/2017\n",
      "Failed to scrape lower court table\n",
      "Scraping Sessions Case/37/2016\n",
      "Failed to scrape lower court table\n",
      "Scraping Sessions Case/100044/2014\n",
      "Scraping Sessions Case/100002/2014\n",
      "Scraping Sessions Case/1000042/2012\n",
      "Scraping Sessions Case/1000016/2010\n",
      "Scraping Spl.Case/33/2022\n",
      "Failed to scrape lower court table\n",
      "Scraping Spl.Case/23/2022\n",
      "Failed to scrape lower court table\n",
      "Scraping Cri.Bail Appln./280/2022\n",
      "Failed to scrape lower court table\n",
      "Scraping Cri.Bail Appln./268/2022\n",
      "Failed to scrape lower court table\n",
      "Scraping 1102/2020  \n"
     ]
    },
    {
     "ename": "AttributeError",
     "evalue": "'NoneType' object has no attribute 'click'",
     "output_type": "error",
     "traceback": [
      "\u001b[0;31m---------------------------------------------------------------------------\u001b[0m",
      "\u001b[0;31mAttributeError\u001b[0m                            Traceback (most recent call last)",
      "Cell \u001b[0;32mIn [33], line 45\u001b[0m\n\u001b[1;32m     34\u001b[0m         \u001b[38;5;66;03m#Because this case's view button acts weird, we are skipping this case\u001b[39;00m\n\u001b[1;32m     35\u001b[0m \u001b[38;5;66;03m#         cases_to_skip = ['Sessions Case/100264/2014', 'Sessions Case/100919/2013', 'Sessions Case/100672/2013']\u001b[39;00m\n\u001b[1;32m     36\u001b[0m \u001b[38;5;66;03m#         if each_case['case_id'] in cases_to_skip:\u001b[39;00m\n\u001b[0;32m   (...)\u001b[0m\n\u001b[1;32m     42\u001b[0m             \n\u001b[1;32m     43\u001b[0m         \u001b[38;5;66;03m#Click on view button\u001b[39;00m\n\u001b[1;32m     44\u001b[0m         view_button \u001b[38;5;241m=\u001b[39m \u001b[38;5;28;01mawait\u001b[39;00m row\u001b[38;5;241m.\u001b[39mquery_selector(\u001b[38;5;124m'\u001b[39m\u001b[38;5;124ma\u001b[39m\u001b[38;5;124m'\u001b[39m)\n\u001b[0;32m---> 45\u001b[0m         \u001b[38;5;28;01mawait\u001b[39;00m \u001b[43mview_button\u001b[49m\u001b[38;5;241;43m.\u001b[39;49m\u001b[43mclick\u001b[49m()\n\u001b[1;32m     47\u001b[0m         time\u001b[38;5;241m.\u001b[39msleep(\u001b[38;5;241m5\u001b[39m)\n\u001b[1;32m     49\u001b[0m         \u001b[38;5;66;03m#Scrape the view contents and put them in each_case\u001b[39;00m\n\u001b[1;32m     50\u001b[0m \n\u001b[1;32m     51\u001b[0m         \u001b[38;5;66;03m#case_details\u001b[39;00m\n",
      "\u001b[0;31mAttributeError\u001b[0m: 'NoneType' object has no attribute 'click'"
     ]
    }
   ],
   "source": [
    "table_1 = await page.query_selector_all('tr')\n",
    "index=0\n",
    "\n",
    "\n",
    "for row in tqdm(table_1[1:]):\n",
    "    index = index + 1\n",
    "    list_of_cases = []\n",
    "    each_case = {}\n",
    "    all_tds = await row.query_selector_all('td')\n",
    "    if len(all_tds) == 2:\n",
    "        court_name = await all_tds[0].text_content()\n",
    "    elif len(all_tds) == 4:\n",
    "        case_id = await row.query_selector('td:nth-child(2)')\n",
    "        case_title = await row.query_selector('td:nth-child(3)')\n",
    "        each_case['case_id'] = (await case_id.text_content())\n",
    "        each_case['case_title'] = (await case_title.text_content())\n",
    "        each_case['court_name'] = court_name\n",
    "    \n",
    "        ###########################\n",
    "        # if index==15:\n",
    "        #    break # for debugging, delete later\n",
    "        ###########################    \n",
    "\n",
    "        already_scraped_df = pd.read_csv('AHMEDNAGAR_SHRIRAMPUR_pending_case_data.csv')\n",
    "        already_scraped_case_ids = list(already_scraped_df['case_id'])\n",
    "        if each_case['case_id'] in already_scraped_case_ids:\n",
    "#             print(f\"Already scraped {each_case['case_id']}\")\n",
    "            continue # this means go back to the top of the loop without finishing this iteration\n",
    "        \n",
    "        print(f\"Scraping {each_case['case_id']}\")\n",
    "            \n",
    "        time.sleep(3)\n",
    "        \n",
    "        #Because this case's view button acts weird, we are skipping this case\n",
    "#         cases_to_skip = ['Sessions Case/100264/2014', 'Sessions Case/100919/2013', 'Sessions Case/100672/2013']\n",
    "#         if each_case['case_id'] in cases_to_skip:\n",
    "#             with open('AHMEDNAGAR_SHRIRAMPUR_pending_case_data.csv', 'a') as csvfile:\n",
    "#                 writer = csv.DictWriter(csvfile, fieldnames=headers)\n",
    "#                 writer.writerow(each_case)\n",
    "#             list_of_cases.append(each_case)\n",
    "#             continue\n",
    "            \n",
    "        #Click on view button\n",
    "        view_button = await row.query_selector('a')\n",
    "        await view_button.click()\n",
    "            \n",
    "        time.sleep(5)\n",
    "\n",
    "        #Scrape the view contents and put them in each_case\n",
    "\n",
    "        #case_details\n",
    "        case_details_table = await page.query_selector('#CSact .case_details_table')\n",
    "        case_details = await scrape_weird_first_table(case_details_table)\n",
    "            #print(case_details)\n",
    "\n",
    "        #case_status\n",
    "        cases_status_table = await page.query_selector('#CSact .case_status_table')\n",
    "        cases_status = await scrape_side_by_side_table(cases_status_table)\n",
    "            #print(cases_status)\n",
    "\n",
    "        #subordinate court\n",
    "        lower_court_table = await page.query_selector('#CSact .Lower_court_table')\n",
    "        if lower_court_table:\n",
    "            lower_court = await scrape_side_by_side_table(lower_court_table)\n",
    "        else:\n",
    "            lower_court = {}\n",
    "            print(\"Failed to scrape lower court table\")\n",
    "            #print(lower_court)\n",
    "\n",
    "        #FIR_details\n",
    "        FIR_details_table = await page.query_selector('#CSact .FIR_details_table')\n",
    "        if FIR_details_table:\n",
    "            FIR_details = await scrape_side_by_side_table(FIR_details_table)\n",
    "        else:\n",
    "            FIR_details = {}\n",
    "            print(\"Failed to scrape FIR details table\")\n",
    "            #Put the result through pd.DataFrame() after looping\n",
    "            #print(FIR_details)\n",
    "\n",
    "        #petitioner_advocate\n",
    "        petitioner_and_advocate_table = await page.query_selector('#CSact .Petitioner_Advocate_table')\n",
    "        all_trs = await petitioner_and_advocate_table.query_selector_all('tr')\n",
    "        petitioner_advocate = {}\n",
    "        petitioner_and_advocate = []\n",
    "        for tr in all_trs:\n",
    "            all_tds = await tr.query_selector_all('td')\n",
    "            for td in all_tds:\n",
    "                petitioner_and_advocate.append(await td.text_content())\n",
    "                petitioner_advocate['petitioner_and_advocate'] = petitioner_and_advocate\n",
    "                #print(petitioner_advocate)\n",
    "\n",
    "        #respondent_advocate\n",
    "        respondent_and_advocate_table = await page.query_selector('#CSact .Respondent_Advocate_table')\n",
    "        all_trs = await respondent_and_advocate_table.query_selector_all('tr')\n",
    "        respondent_advocate = {}\n",
    "        respondent_and_advocate = []\n",
    "        for tr in all_trs:\n",
    "            all_tds = await tr.query_selector_all('td')\n",
    "            for td in all_tds:\n",
    "                respondent_and_advocate.append(await td.text_content())\n",
    "                respondent_advocate['respondent_and_advocate'] = respondent_and_advocate\n",
    "                #print(respondent_advocate)\n",
    "\n",
    "        #click back button\n",
    "        back_button = page.locator('#main_back_act')\n",
    "        await back_button.click()\n",
    "        \n",
    "        time.sleep(5)\n",
    "        \n",
    "        all_case_data = {**each_case, **case_details, **cases_status, **lower_court, **FIR_details, **petitioner_advocate, **respondent_advocate}\n",
    "\n",
    "        with open('AHMEDNAGAR_SHRIRAMPUR_pending_case_data.csv', 'a') as csvfile:\n",
    "            writer = csv.DictWriter(csvfile, fieldnames=headers)\n",
    "            writer.writerow(all_case_data)\n",
    "            \n",
    "            \n",
    "            \n",
    "        list_of_cases.append(all_case_data)\n",
    "\n",
    "    else:\n",
    "        raise Exception(\"Error parsing table. Expected 2 or 4 td elements.\")"
   ]
  },
  {
   "cell_type": "markdown",
   "id": "511d0723",
   "metadata": {},
   "source": [
    "---------------------------------------------------------------------------\n",
    "AttributeError                            Traceback (most recent call last)\n",
    "Cell In [26], line 45\n",
    "     34         #Because this case's view button acts weird, we are skipping this case\n",
    "     35 #         cases_to_skip = ['Sessions Case/100264/2014', 'Sessions Case/100919/2013', 'Sessions Case/100672/2013']\n",
    "     36 #         if each_case['case_id'] in cases_to_skip:\n",
    "   (...)\n",
    "     42             \n",
    "     43         #Click on view button\n",
    "     44         view_button = await row.query_selector('a')\n",
    "---> 45         await view_button.click()\n",
    "     47         time.sleep(5)\n",
    "     49         #Scrape the view contents and put them in each_case\n",
    "     50 \n",
    "     51         #case_details\n",
    "\n",
    "AttributeError: 'NoneType' object has no attribute 'click'\n",
    "\n",
    "\n",
    "# This error occured after the entire list of 74 was done. Then it tried to scrape more and the tqdm counter said it was looking for 104 even though there were only 74 on the page."
   ]
  },
  {
   "cell_type": "code",
   "execution_count": null,
   "id": "a2349f58",
   "metadata": {},
   "outputs": [],
   "source": [
    "data_so_far = pd.read_csv('pending_case_data.csv')\n",
    "data_so_far.to_csv(f'pending_case_data_{pd.Timestamp.now()}.csv')"
   ]
  },
  {
   "cell_type": "code",
   "execution_count": null,
   "id": "b350c4df",
   "metadata": {},
   "outputs": [],
   "source": [
    "#df.to_csv('MAH_pending_302.csv', index=False)"
   ]
  },
  {
   "cell_type": "code",
   "execution_count": null,
   "id": "3a765620",
   "metadata": {
    "scrolled": true
   },
   "outputs": [],
   "source": [
    "#pd.read_csv('MAH_pending_302.csv')"
   ]
  },
  {
   "cell_type": "code",
   "execution_count": null,
   "id": "37d23f5f",
   "metadata": {},
   "outputs": [],
   "source": [
    "#SAFEKEEPING\n",
    "\n",
    "# view_button = await page.locator('//*[@id=\"dispTable\"]/tbody/tr[2]/td[4]/a').click()\n",
    "# #case_details\n",
    "# case_details_table = await page.query_selector('#CSact .case_details_table')\n",
    "# case_details = await scrape_weird_first_table(case_details_table)\n",
    "# print(case_details)\n",
    "\n",
    "# #case_status\n",
    "# cases_status_table = await page.query_selector('#CSact .case_status_table')\n",
    "# cases_status = await scrape_side_by_side_table(cases_status_table)\n",
    "# print(cases_status)\n",
    "\n",
    "# #subordinate court\n",
    "# lower_court_table = await page.query_selector('#CSact .Lower_court_table')\n",
    "# lower_court = await scrape_side_by_side_table(lower_court_table)\n",
    "# print(lower_court)\n",
    "\n",
    "# #FIR_details\n",
    "# FIR_details_table = await page.query_selector('#CSact .FIR_details_table')\n",
    "# FIR_details = await scrape_side_by_side_table(FIR_details_table)\n",
    "# #Put the result through pd.DataFrame() after looping\n",
    "# print(FIR_details)\n",
    "\n",
    "# #petitioner_advocate\n",
    "# petitioner_and_advocate_table = await page.query_selector('#CSact .Petitioner_Advocate_table')\n",
    "# all_trs = await petitioner_and_advocate_table.query_selector_all('tr')\n",
    "# petitioner_advocate = {}\n",
    "# petitioner_and_advocate = []\n",
    "# for tr in all_trs:\n",
    "#     all_tds = await tr.query_selector_all('td')\n",
    "#     for td in all_tds:\n",
    "#         petitioner_and_advocate.append(await td.text_content())\n",
    "#         petitioner_advocate['petitioner_and_advocate'] = petitioner_and_advocate\n",
    "#     print(petitioner_advocate)\n",
    "    \n",
    "# #respondent_advocate\n",
    "# respondent_and_advocate_table = await page.query_selector('#CSact .Respondent_Advocate_table')\n",
    "# all_trs = await respondent_and_advocate_table.query_selector_all('tr')\n",
    "# respondent_advocate = {}\n",
    "# respondent_and_advocate = []\n",
    "# for tr in all_trs:\n",
    "#     all_tds = await tr.query_selector_all('td')\n",
    "#     for td in all_tds:\n",
    "#         respondent_and_advocate.append(await td.text_content())\n",
    "#         respondent_advocate['respondent_and_advocate'] = respondent_and_advocate\n",
    "#     print(respondent_advocate)"
   ]
  },
  {
   "cell_type": "code",
   "execution_count": null,
   "id": "0e8adb07",
   "metadata": {},
   "outputs": [],
   "source": [
    "#back_button = await page.locator('//*[@id=\"main_back_act\"]').click()"
   ]
  },
  {
   "cell_type": "code",
   "execution_count": null,
   "id": "83980d80",
   "metadata": {},
   "outputs": [],
   "source": [
    "#List of tables for reference and mental health\n",
    "\n",
    "# case_details_table = await page.query_selector('#CSact .case_details_table')\n",
    "# cases_status_table = await page.query_selector('#CSact .case_status_table')\n",
    "# petitioner_and_advocate_table = await page.query_selector('#CSact .Petitioner_Advocate_table')\n",
    "# respondent_and_advocate_table = await page.query_selector('#CSact .Respondent_Advocate_table')\n",
    "# acts_table = await page.query_selector('#CSact .acts_table')\n",
    "# lower_court_table = await page.query_selector('#CSact .Lower_court_table')\n",
    "# FIR_details_table = await page.query_selector('#CSact .FIR_details_table')"
   ]
  },
  {
   "cell_type": "code",
   "execution_count": null,
   "id": "dcb4ce85",
   "metadata": {},
   "outputs": [],
   "source": [
    "# collect dictionaries for each table\n",
    "# case_details_data = scrape_weird_first_table(case_details_table)\n",
    "# case_status_data = scrape_side_by_side_table(case_status_table)\n",
    "\n",
    "# # combine dictionaries\n",
    "# case_data = {**case_details_data, **case_status_data}"
   ]
  },
  {
   "cell_type": "markdown",
   "id": "e5bb4fff",
   "metadata": {},
   "source": [
    "### case_details_table"
   ]
  },
  {
   "cell_type": "code",
   "execution_count": null,
   "id": "f28c81bb",
   "metadata": {},
   "outputs": [],
   "source": [
    "case_details_table = await page.query_selector('#CSact .case_details_table')\n",
    "case_details = await scrape_weird_first_table(case_details_table)\n",
    "print(case_details)"
   ]
  },
  {
   "cell_type": "markdown",
   "id": "acb22480",
   "metadata": {},
   "source": [
    "### cases_status_table"
   ]
  },
  {
   "cell_type": "code",
   "execution_count": null,
   "id": "db97110c",
   "metadata": {},
   "outputs": [],
   "source": [
    "cases_status_table = await page.query_selector('#CSact .case_status_table')\n",
    "cases_status = await scrape_side_by_side_table(cases_status_table)\n",
    "print(cases_status)"
   ]
  },
  {
   "cell_type": "markdown",
   "id": "f38bc61f",
   "metadata": {},
   "source": [
    "### lower_court_table"
   ]
  },
  {
   "cell_type": "code",
   "execution_count": null,
   "id": "c63544b2",
   "metadata": {},
   "outputs": [],
   "source": [
    "lower_court_table = await page.query_selector('#CSact .Lower_court_table')\n",
    "lower_court = await scrape_side_by_side_table(lower_court_table)\n",
    "print(lower_court)"
   ]
  },
  {
   "cell_type": "markdown",
   "id": "ccd2dd80",
   "metadata": {},
   "source": [
    "### FIR_details_table"
   ]
  },
  {
   "cell_type": "code",
   "execution_count": null,
   "id": "b3b071ae",
   "metadata": {},
   "outputs": [],
   "source": [
    "FIR_details_table = await page.query_selector('#CSact .FIR_details_table')\n",
    "FIR_details = await scrape_side_by_side_table(FIR_details_table)\n",
    "#Put the result through pd.DataFrame() after looping\n",
    "print(FIR_details)"
   ]
  },
  {
   "cell_type": "markdown",
   "id": "518db62a",
   "metadata": {},
   "source": [
    "### acts_table"
   ]
  },
  {
   "cell_type": "code",
   "execution_count": null,
   "id": "73a82481",
   "metadata": {},
   "outputs": [],
   "source": [
    "acts_table = await page.query_selector('#CSact .acts_table')\n",
    "acts = await scrape_dataframe_style_table(acts_table)\n",
    "print(acts)"
   ]
  },
  {
   "cell_type": "code",
   "execution_count": null,
   "id": "ccc2de50",
   "metadata": {},
   "outputs": [],
   "source": []
  }
 ],
 "metadata": {
  "kernelspec": {
   "display_name": "Python 3 (ipykernel)",
   "language": "python",
   "name": "python3"
  },
  "language_info": {
   "codemirror_mode": {
    "name": "ipython",
    "version": 3
   },
   "file_extension": ".py",
   "mimetype": "text/x-python",
   "name": "python",
   "nbconvert_exporter": "python",
   "pygments_lexer": "ipython3",
   "version": "3.11.0rc2"
  }
 },
 "nbformat": 4,
 "nbformat_minor": 5
}
