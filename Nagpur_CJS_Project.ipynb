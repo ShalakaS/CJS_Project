{
 "cells": [
  {
   "cell_type": "code",
   "execution_count": null,
   "id": "10a124b7",
   "metadata": {},
   "outputs": [],
   "source": []
  },
  {
   "cell_type": "code",
   "execution_count": 192,
   "id": "f0426820",
   "metadata": {},
   "outputs": [],
   "source": [
    "import pandas as pd\n",
    "from playwright.async_api import async_playwright\n",
    "playwright = await async_playwright().start()\n",
    "browser = await playwright.chromium.launch(headless = False)\n",
    "page = await browser.new_page()\n",
    "from tqdm.notebook import tqdm\n",
    "import time\n",
    "import pdb\n",
    "import csv\n",
    "from PIL import Image\n",
    "import requests\n",
    "import pytesseract"
   ]
  },
  {
   "cell_type": "code",
   "execution_count": 193,
   "id": "218f3132",
   "metadata": {},
   "outputs": [],
   "source": [
    "url = 'https://services.ecourts.gov.in/ecourtindia_v6/?p=casestatus/index&app_token=c3c41da3cb5e335b69849006e4de6372a40dda722a50a46fd80a9086c896e86b'"
   ]
  },
  {
   "cell_type": "code",
   "execution_count": 195,
   "id": "07858e9d",
   "metadata": {},
   "outputs": [
    {
     "data": {
      "text/plain": [
       "<Response url='https://services.ecourts.gov.in/ecourtindia_v6/?p=casestatus/index&app_token=c3c41da3cb5e335b69849006e4de6372a40dda722a50a46fd80a9086c896e86b' request=<Request url='https://services.ecourts.gov.in/ecourtindia_v6/?p=casestatus/index&app_token=c3c41da3cb5e335b69849006e4de6372a40dda722a50a46fd80a9086c896e86b' method='GET'>>"
      ]
     },
     "execution_count": 195,
     "metadata": {},
     "output_type": "execute_result"
    }
   ],
   "source": [
    "await page.goto(url)"
   ]
  },
  {
   "cell_type": "code",
   "execution_count": null,
   "id": "0360e054",
   "metadata": {},
   "outputs": [],
   "source": []
  },
  {
   "cell_type": "code",
   "execution_count": 196,
   "id": "7e7b22ca",
   "metadata": {},
   "outputs": [],
   "source": [
    "await page.locator('.alert-danger-cust').get_by_text('Select state, district and court complex to proceed further', exact=True).wait_for()\n",
    "await page.locator('//*[@id=\"validateError\"]/div/div/div[1]/button').click()"
   ]
  },
  {
   "cell_type": "code",
   "execution_count": 197,
   "id": "bc76d82e",
   "metadata": {},
   "outputs": [
    {
     "data": {
      "text/plain": [
       "['1']"
      ]
     },
     "execution_count": 197,
     "metadata": {},
     "output_type": "execute_result"
    }
   ],
   "source": [
    "await page.locator('#sess_state_code').select_option('1')"
   ]
  },
  {
   "cell_type": "code",
   "execution_count": 198,
   "id": "85af3bcd",
   "metadata": {},
   "outputs": [
    {
     "data": {
      "text/plain": [
       "['9']"
      ]
     },
     "execution_count": 198,
     "metadata": {},
     "output_type": "execute_result"
    }
   ],
   "source": [
    "await page.locator('#sess_dist_code').select_option('9')"
   ]
  },
  {
   "cell_type": "markdown",
   "id": "be78b67b",
   "metadata": {},
   "source": [
    "### 'Nagpur, District Sessions Court III' and 'Nagpur District Sessions Court' are two district courts in Nagpur district"
   ]
  },
  {
   "cell_type": "code",
   "execution_count": 199,
   "id": "3f1a0e25",
   "metadata": {},
   "outputs": [
    {
     "data": {
      "text/plain": [
       "['1010122@1,3,4,5,8@N']"
      ]
     },
     "execution_count": 199,
     "metadata": {},
     "output_type": "execute_result"
    }
   ],
   "source": [
    "#Nagpur, District Sessions Court III\n",
    "await page.locator('#court_complex_code').select_option('1010122@1,3,4,5,8@N')\n",
    "#Nagpur District Sessions Court\n",
    "#await page.locator('#court_complex_code').select_option('1010123@2@N')"
   ]
  },
  {
   "cell_type": "code",
   "execution_count": 200,
   "id": "b18529d4",
   "metadata": {},
   "outputs": [],
   "source": [
    "await page.locator('//*[@id=\"act-tabMenu\"]').click()"
   ]
  },
  {
   "cell_type": "code",
   "execution_count": 201,
   "id": "afbb04a1",
   "metadata": {},
   "outputs": [
    {
     "data": {
      "text/plain": [
       "['1']"
      ]
     },
     "execution_count": 201,
     "metadata": {},
     "output_type": "execute_result"
    }
   ],
   "source": [
    "await page.locator('#actcode').select_option('1')"
   ]
  },
  {
   "cell_type": "code",
   "execution_count": 202,
   "id": "1a9bab1f",
   "metadata": {},
   "outputs": [],
   "source": [
    "await page.locator('#under_sec').fill('302')"
   ]
  },
  {
   "cell_type": "code",
   "execution_count": 203,
   "id": "13ec2884",
   "metadata": {},
   "outputs": [],
   "source": [
    "await page.locator('#radPAct').click()"
   ]
  },
  {
   "cell_type": "code",
   "execution_count": 204,
   "id": "9b64432c",
   "metadata": {},
   "outputs": [
    {
     "name": "stdout",
     "output_type": "stream",
     "text": [
      "Saved as captcha.png\n"
     ]
    }
   ],
   "source": [
    "captcha_image = await page.locator('#div_captcha_act #captcha_image').screenshot(type='png')\n",
    "\n",
    "with open('captcha.png', 'wb') as fp:\n",
    "    print(\"Saved as captcha.png\")\n",
    "    fp.write(captcha_image)"
   ]
  },
  {
   "cell_type": "code",
   "execution_count": 205,
   "id": "57c911f1",
   "metadata": {},
   "outputs": [
    {
     "data": {
      "image/png": "[encoded data removed]",
      "text/plain": [
       "<PIL.PngImagePlugin.PngImageFile image mode=RGBA size=121x46>"
      ]
     },
     "execution_count": 205,
     "metadata": {},
     "output_type": "execute_result"
    }
   ],
   "source": [
    "image = Image.open('captcha.png')\n",
    "image"
   ]
  },
  {
   "cell_type": "code",
   "execution_count": 206,
   "id": "db01e9a2",
   "metadata": {},
   "outputs": [
    {
     "data": {
      "text/plain": [
       "'In8u76'"
      ]
     },
     "execution_count": 206,
     "metadata": {},
     "output_type": "execute_result"
    }
   ],
   "source": [
    "answer = pytesseract.image_to_string(image).strip()\n",
    "answer"
   ]
  },
  {
   "cell_type": "code",
   "execution_count": 207,
   "id": "8ebad52d",
   "metadata": {},
   "outputs": [],
   "source": [
    "await page.locator('#act_captcha_code').fill(answer)"
   ]
  },
  {
   "cell_type": "code",
   "execution_count": 208,
   "id": "dc96023b",
   "metadata": {},
   "outputs": [],
   "source": [
    "await page.locator('//*[@id=\"frm_act\"]/div[3]/div[2]/button').click()"
   ]
  },
  {
   "cell_type": "code",
   "execution_count": 209,
   "id": "f536cc3c",
   "metadata": {},
   "outputs": [],
   "source": [
    "table_1 = await page.query_selector_all('tr')\n",
    "\n",
    "for row in table_1:\n",
    "    print(await row.text_content())"
   ]
  },
  {
   "cell_type": "code",
   "execution_count": 210,
   "id": "401b8caf",
   "metadata": {},
   "outputs": [],
   "source": [
    "# headers = ['case_id', 'case_title', 'court_name', ' Case Type', ' Filing Number ',\n",
    "#        'Registration Number', 'CNR Number', 'First Hearing Date',\n",
    "#        'Next Hearing Date', 'Case Stage', 'News and Events and Judge', 'Court Number and Judge',\n",
    "#        'Court Number and Name', 'Case Number and Year', 'Case Decision Date',\n",
    "#        'Police Station', 'FIR Number', 'Year', 'petitioner_and_advocate',\n",
    "#        'respondent_and_advocate','Case Transferred from Establishment', 'Case Transferred to Establishment', 'Transfer Date']\n",
    "\n",
    "# with open('NAGPUR_pending_case_data.csv', 'w') as csvfile:\n",
    "#     writer = csv.writer(csvfile) # define a writer\n",
    "#     writer.writerow(headers) # write the row"
   ]
  },
  {
   "cell_type": "code",
   "execution_count": 211,
   "id": "cfc40572",
   "metadata": {},
   "outputs": [],
   "source": [
    "# async def view_button_click_and_close_error_message(row):\n",
    "#     view_button = await row.query_selector('a')\n",
    "#     await view_button.click()\n",
    "# #     print('clicked view button')\n",
    "#     error_button = await page.query_selector('//*[@id=\"validateError\"]/div/div/div[1]/button')\n",
    "#     if error_button.is_visible():\n",
    "#         await error_button.click()\n",
    "# #         print('found error button')\n",
    "#         raise Exception('error after clicking view')"
   ]
  },
  {
   "cell_type": "markdown",
   "id": "38d0a7d0",
   "metadata": {},
   "source": [
    "# Function_1 scrape_weird_first_table()"
   ]
  },
  {
   "cell_type": "code",
   "execution_count": 130,
   "id": "0eb26c15",
   "metadata": {},
   "outputs": [],
   "source": [
    "async def scrape_weird_first_table(table):\n",
    "    case_detail_table = {}\n",
    "    all_trs = await table.query_selector_all('tr')\n",
    "    for tr in all_trs:\n",
    "        key_element = await tr.query_selector_all('td')\n",
    "        key = await key_element[0].text_content()\n",
    "        value_element = await tr.query_selector_all('td')\n",
    "        value = await value_element[1].text_content()\n",
    "        case_detail_table[key] = value\n",
    "    return case_detail_table"
   ]
  },
  {
   "cell_type": "markdown",
   "id": "fd85a52a",
   "metadata": {},
   "source": [
    "# Function_2 scrape_side_by_side_table()"
   ]
  },
  {
   "cell_type": "code",
   "execution_count": 131,
   "id": "74117dbb",
   "metadata": {},
   "outputs": [],
   "source": [
    "async def scrape_side_by_side_table(table):\n",
    "    case_status_table = {}\n",
    "    all_trs = await table.query_selector_all('tr')\n",
    "    for tr in all_trs:\n",
    "        all_tds = await tr.query_selector_all('td')\n",
    "        if len(all_tds) == 2:\n",
    "            left_column = await tr.query_selector_all('td')\n",
    "            keys = await left_column[0].text_content()\n",
    "            right_column = await tr.query_selector_all('td')\n",
    "            values = await right_column[1].text_content()\n",
    "            case_status_table[keys] = values\n",
    "        else:\n",
    "            pass\n",
    "    return case_status_table"
   ]
  },
  {
   "cell_type": "markdown",
   "id": "122d6480",
   "metadata": {},
   "source": [
    "# Function_3 scrape_dataframe_style_table()"
   ]
  },
  {
   "cell_type": "code",
   "execution_count": 132,
   "id": "1c93c725",
   "metadata": {},
   "outputs": [],
   "source": [
    "async def scrape_dataframe_style_table(table):\n",
    "    tables = pd.read_html(await page.content())\n",
    "    return tables[5]"
   ]
  },
  {
   "cell_type": "markdown",
   "id": "64196f8a",
   "metadata": {},
   "source": [
    "# Scraping (Petitioner + Respondent) & Advocates\n",
    "\n",
    "## petitioner_and_advocate_table\n",
    "#### Save all tds in form of a list and add the list as value to the result dictionary\n",
    "#### This will take care of pages where there are multiple tds which means multiple petitioners"
   ]
  },
  {
   "cell_type": "code",
   "execution_count": 133,
   "id": "ac343911",
   "metadata": {},
   "outputs": [],
   "source": [
    "# petitioner_and_advocate_table = await page.query_selector('#CSact .Petitioner_Advocate_table')\n",
    "# all_trs = await petitioner_and_advocate_table.query_selector_all('tr')\n",
    "# petitioner_advocate = {}\n",
    "# petitioner_and_advocate = []\n",
    "# for tr in all_trs:\n",
    "#     all_tds = await tr.query_selector_all('td')\n",
    "#     for td in all_tds:\n",
    "#         petitioner_and_advocate.append(await td.text_content())\n",
    "#         petitioner_advocate['petitioner_and_advocate'] = petitioner_and_advocate\n",
    "#     print(petitioner_advocate)          "
   ]
  },
  {
   "cell_type": "markdown",
   "id": "65fc07e7",
   "metadata": {},
   "source": [
    "## respondent_and_advocate_table\n",
    "#### Save all tds in form of a list and add the list as value to the result dictionary\n",
    "#### This will take care of pages where there are multiple tds which means multiple respondents"
   ]
  },
  {
   "cell_type": "code",
   "execution_count": 134,
   "id": "31e43752",
   "metadata": {},
   "outputs": [],
   "source": [
    "# respondent_and_advocate_table = await page.query_selector('#CSact .Respondent_Advocate_table')\n",
    "# all_trs = await respondent_and_advocate_table.query_selector_all('tr')\n",
    "# respondent_advocate = {}\n",
    "# respondent_and_advocate = []\n",
    "# for tr in all_trs:\n",
    "#     all_tds = await tr.query_selector_all('td')\n",
    "#     for td in all_tds:\n",
    "#         respondent_and_advocate.append(await td.text_content())\n",
    "#         respondent_advocate['respondent_and_advocate'] = respondent_and_advocate\n",
    "#     print(respondent_advocate)     "
   ]
  },
  {
   "cell_type": "code",
   "execution_count": 216,
   "id": "ad3fb6d7",
   "metadata": {
    "scrolled": false
   },
   "outputs": [
    {
     "data": {
      "application/vnd.jupyter.widget-view+json": {
       "model_id": "12573bc280b04c65ae3b9cb004b90155",
       "version_major": 2,
       "version_minor": 0
      },
      "text/plain": [
       "  0%|          | 0/771 [00:00<?, ?it/s]"
      ]
     },
     "metadata": {},
     "output_type": "display_data"
    },
    {
     "name": "stdout",
     "output_type": "stream",
     "text": [
      "Scraping Sessions Case/228/2018\n",
      "Scraping Sessions Case/100213/2014\n",
      "Scraping Spl.Case/181/2020\n",
      "Failed to scrape lower court table\n",
      "Scraping Spl.Case/146/2020\n",
      "Failed to scrape lower court table\n",
      "Scraping Spl.Case/105/2020\n",
      "Failed to scrape lower court table\n",
      "Scraping Spl.Case/65/2020\n",
      "Scraping Atro.Spl.Case/41/2019\n",
      "Failed to scrape lower court table\n",
      "Scraping Atro.Spl.Case/10/2019\n",
      "Failed to scrape lower court table\n",
      "Scraping Atro.Spl.Case/74/2018\n",
      "Failed to scrape lower court table\n",
      "Scraping Atro.Spl.Case/56/2018\n",
      "Failed to scrape lower court table\n",
      "Scraping Atro.Spl.Case/33/2018\n",
      "Failed to scrape lower court table\n",
      "Scraping Atro.Spl.Case/47/2017\n",
      "Failed to scrape lower court table\n",
      "Scraping Atro.Spl.Case/11/2016\n",
      "Failed to scrape lower court table\n",
      "Scraping Atro.Spl.Case/6/2016\n"
     ]
    },
    {
     "ename": "CancelledError",
     "evalue": "",
     "output_type": "error",
     "traceback": [
      "\u001b[0;31m---------------------------------------------------------------------------\u001b[0m",
      "\u001b[0;31mCancelledError\u001b[0m                            Traceback (most recent call last)",
      "Cell \u001b[0;32mIn [216], line 45\u001b[0m\n\u001b[1;32m     42\u001b[0m     \u001b[38;5;28;01mcontinue\u001b[39;00m\n\u001b[1;32m     44\u001b[0m \u001b[38;5;66;03m#Click on view button\u001b[39;00m\n\u001b[0;32m---> 45\u001b[0m view_button \u001b[38;5;241m=\u001b[39m \u001b[38;5;28;01mawait\u001b[39;00m row\u001b[38;5;241m.\u001b[39mquery_selector(\u001b[38;5;124m'\u001b[39m\u001b[38;5;124ma\u001b[39m\u001b[38;5;124m'\u001b[39m)\n\u001b[1;32m     46\u001b[0m \u001b[38;5;28;01mawait\u001b[39;00m view_button\u001b[38;5;241m.\u001b[39mclick()\n\u001b[1;32m     48\u001b[0m time\u001b[38;5;241m.\u001b[39msleep(\u001b[38;5;241m5\u001b[39m)\n",
      "File \u001b[0;32m~/.pyenv/versions/3.11.0rc2/lib/python3.11/site-packages/playwright/async_api/_generated.py:2570\u001b[0m, in \u001b[0;36mElementHandle.query_selector\u001b[0;34m(self, selector)\u001b[0m\n\u001b[1;32m   2553\u001b[0m \u001b[38;5;28;01masync\u001b[39;00m \u001b[38;5;28;01mdef\u001b[39;00m \u001b[38;5;21mquery_selector\u001b[39m(\u001b[38;5;28mself\u001b[39m, selector: \u001b[38;5;28mstr\u001b[39m) \u001b[38;5;241m-\u001b[39m\u001b[38;5;241m>\u001b[39m typing\u001b[38;5;241m.\u001b[39mOptional[\u001b[38;5;124m\"\u001b[39m\u001b[38;5;124mElementHandle\u001b[39m\u001b[38;5;124m\"\u001b[39m]:\n\u001b[1;32m   2554\u001b[0m     \u001b[38;5;124;03m\"\"\"ElementHandle.query_selector\u001b[39;00m\n\u001b[1;32m   2555\u001b[0m \n\u001b[1;32m   2556\u001b[0m \u001b[38;5;124;03m    The method finds an element matching the specified selector in the `ElementHandle`'s subtree. See\u001b[39;00m\n\u001b[0;32m   (...)\u001b[0m\n\u001b[1;32m   2566\u001b[0m \u001b[38;5;124;03m    Union[ElementHandle, None]\u001b[39;00m\n\u001b[1;32m   2567\u001b[0m \u001b[38;5;124;03m    \"\"\"\u001b[39;00m\n\u001b[1;32m   2569\u001b[0m     \u001b[38;5;28;01mreturn\u001b[39;00m mapping\u001b[38;5;241m.\u001b[39mfrom_impl_nullable(\n\u001b[0;32m-> 2570\u001b[0m         \u001b[38;5;28;01mawait\u001b[39;00m \u001b[38;5;28mself\u001b[39m\u001b[38;5;241m.\u001b[39m_impl_obj\u001b[38;5;241m.\u001b[39mquery_selector(selector\u001b[38;5;241m=\u001b[39mselector)\n\u001b[1;32m   2571\u001b[0m     )\n",
      "File \u001b[0;32m~/.pyenv/versions/3.11.0rc2/lib/python3.11/site-packages/playwright/_impl/_element_handle.py:315\u001b[0m, in \u001b[0;36mElementHandle.query_selector\u001b[0;34m(self, selector)\u001b[0m\n\u001b[1;32m    313\u001b[0m \u001b[38;5;28;01masync\u001b[39;00m \u001b[38;5;28;01mdef\u001b[39;00m \u001b[38;5;21mquery_selector\u001b[39m(\u001b[38;5;28mself\u001b[39m, selector: \u001b[38;5;28mstr\u001b[39m) \u001b[38;5;241m-\u001b[39m\u001b[38;5;241m>\u001b[39m Optional[\u001b[38;5;124m\"\u001b[39m\u001b[38;5;124mElementHandle\u001b[39m\u001b[38;5;124m\"\u001b[39m]:\n\u001b[1;32m    314\u001b[0m     \u001b[38;5;28;01mreturn\u001b[39;00m from_nullable_channel(\n\u001b[0;32m--> 315\u001b[0m         \u001b[38;5;28;01mawait\u001b[39;00m \u001b[38;5;28mself\u001b[39m\u001b[38;5;241m.\u001b[39m_channel\u001b[38;5;241m.\u001b[39msend(\u001b[38;5;124m\"\u001b[39m\u001b[38;5;124mquerySelector\u001b[39m\u001b[38;5;124m\"\u001b[39m, \u001b[38;5;28mdict\u001b[39m(selector\u001b[38;5;241m=\u001b[39mselector))\n\u001b[1;32m    316\u001b[0m     )\n",
      "File \u001b[0;32m~/.pyenv/versions/3.11.0rc2/lib/python3.11/site-packages/playwright/_impl/_connection.py:44\u001b[0m, in \u001b[0;36mChannel.send\u001b[0;34m(self, method, params)\u001b[0m\n\u001b[1;32m     43\u001b[0m \u001b[38;5;28;01masync\u001b[39;00m \u001b[38;5;28;01mdef\u001b[39;00m \u001b[38;5;21msend\u001b[39m(\u001b[38;5;28mself\u001b[39m, method: \u001b[38;5;28mstr\u001b[39m, params: Dict \u001b[38;5;241m=\u001b[39m \u001b[38;5;28;01mNone\u001b[39;00m) \u001b[38;5;241m-\u001b[39m\u001b[38;5;241m>\u001b[39m Any:\n\u001b[0;32m---> 44\u001b[0m     \u001b[38;5;28;01mreturn\u001b[39;00m \u001b[38;5;28;01mawait\u001b[39;00m \u001b[38;5;28mself\u001b[39m\u001b[38;5;241m.\u001b[39m_connection\u001b[38;5;241m.\u001b[39mwrap_api_call(\n\u001b[1;32m     45\u001b[0m         \u001b[38;5;28;01mlambda\u001b[39;00m: \u001b[38;5;28mself\u001b[39m\u001b[38;5;241m.\u001b[39minner_send(method, params, \u001b[38;5;28;01mFalse\u001b[39;00m)\n\u001b[1;32m     46\u001b[0m     )\n",
      "File \u001b[0;32m~/.pyenv/versions/3.11.0rc2/lib/python3.11/site-packages/playwright/_impl/_connection.py:419\u001b[0m, in \u001b[0;36mConnection.wrap_api_call\u001b[0;34m(self, cb, is_internal)\u001b[0m\n\u001b[1;32m    417\u001b[0m     \u001b[38;5;28mself\u001b[39m\u001b[38;5;241m.\u001b[39m_api_zone\u001b[38;5;241m.\u001b[39mset(metadata)\n\u001b[1;32m    418\u001b[0m \u001b[38;5;28;01mtry\u001b[39;00m:\n\u001b[0;32m--> 419\u001b[0m     \u001b[38;5;28;01mreturn\u001b[39;00m \u001b[38;5;28;01mawait\u001b[39;00m cb()\n\u001b[1;32m    420\u001b[0m \u001b[38;5;28;01mfinally\u001b[39;00m:\n\u001b[1;32m    421\u001b[0m     \u001b[38;5;28mself\u001b[39m\u001b[38;5;241m.\u001b[39m_api_zone\u001b[38;5;241m.\u001b[39mset(\u001b[38;5;28;01mNone\u001b[39;00m)\n",
      "File \u001b[0;32m~/.pyenv/versions/3.11.0rc2/lib/python3.11/site-packages/playwright/_impl/_connection.py:70\u001b[0m, in \u001b[0;36mChannel.inner_send\u001b[0;34m(self, method, params, return_as_dict)\u001b[0m\n\u001b[1;32m     68\u001b[0m     \u001b[38;5;28mself\u001b[39m\u001b[38;5;241m.\u001b[39m_connection\u001b[38;5;241m.\u001b[39m_error \u001b[38;5;241m=\u001b[39m \u001b[38;5;28;01mNone\u001b[39;00m\n\u001b[1;32m     69\u001b[0m     \u001b[38;5;28;01mraise\u001b[39;00m error\n\u001b[0;32m---> 70\u001b[0m done, _ \u001b[38;5;241m=\u001b[39m \u001b[38;5;28;01mawait\u001b[39;00m asyncio\u001b[38;5;241m.\u001b[39mwait(\n\u001b[1;32m     71\u001b[0m     {\n\u001b[1;32m     72\u001b[0m         \u001b[38;5;28mself\u001b[39m\u001b[38;5;241m.\u001b[39m_connection\u001b[38;5;241m.\u001b[39m_transport\u001b[38;5;241m.\u001b[39mon_error_future,\n\u001b[1;32m     73\u001b[0m         callback\u001b[38;5;241m.\u001b[39mfuture,\n\u001b[1;32m     74\u001b[0m     },\n\u001b[1;32m     75\u001b[0m     return_when\u001b[38;5;241m=\u001b[39masyncio\u001b[38;5;241m.\u001b[39mFIRST_COMPLETED,\n\u001b[1;32m     76\u001b[0m )\n\u001b[1;32m     77\u001b[0m \u001b[38;5;28;01mif\u001b[39;00m \u001b[38;5;129;01mnot\u001b[39;00m callback\u001b[38;5;241m.\u001b[39mfuture\u001b[38;5;241m.\u001b[39mdone():\n\u001b[1;32m     78\u001b[0m     callback\u001b[38;5;241m.\u001b[39mfuture\u001b[38;5;241m.\u001b[39mcancel()\n",
      "File \u001b[0;32m~/.pyenv/versions/3.11.0rc2/lib/python3.11/asyncio/tasks.py:423\u001b[0m, in \u001b[0;36mwait\u001b[0;34m(fs, timeout, return_when)\u001b[0m\n\u001b[1;32m    420\u001b[0m     \u001b[38;5;28;01mraise\u001b[39;00m \u001b[38;5;167;01mTypeError\u001b[39;00m(\u001b[38;5;124m\"\u001b[39m\u001b[38;5;124mPassing coroutines is forbidden, use tasks explicitly.\u001b[39m\u001b[38;5;124m\"\u001b[39m)\n\u001b[1;32m    422\u001b[0m loop \u001b[38;5;241m=\u001b[39m events\u001b[38;5;241m.\u001b[39mget_running_loop()\n\u001b[0;32m--> 423\u001b[0m \u001b[38;5;28;01mreturn\u001b[39;00m \u001b[38;5;28;01mawait\u001b[39;00m _wait(fs, timeout, return_when, loop)\n",
      "File \u001b[0;32m~/.pyenv/versions/3.11.0rc2/lib/python3.11/asyncio/tasks.py:530\u001b[0m, in \u001b[0;36m_wait\u001b[0;34m(fs, timeout, return_when, loop)\u001b[0m\n\u001b[1;32m    527\u001b[0m     f\u001b[38;5;241m.\u001b[39madd_done_callback(_on_completion)\n\u001b[1;32m    529\u001b[0m \u001b[38;5;28;01mtry\u001b[39;00m:\n\u001b[0;32m--> 530\u001b[0m     \u001b[38;5;28;01mawait\u001b[39;00m waiter\n\u001b[1;32m    531\u001b[0m \u001b[38;5;28;01mfinally\u001b[39;00m:\n\u001b[1;32m    532\u001b[0m     \u001b[38;5;28;01mif\u001b[39;00m timeout_handle \u001b[38;5;129;01mis\u001b[39;00m \u001b[38;5;129;01mnot\u001b[39;00m \u001b[38;5;28;01mNone\u001b[39;00m:\n",
      "\u001b[0;31mCancelledError\u001b[0m: "
     ]
    }
   ],
   "source": [
    "table_1 = await page.query_selector_all('tr')\n",
    "index=0\n",
    "\n",
    "\n",
    "for row in tqdm(table_1[1:]):\n",
    "    index = index + 1\n",
    "    list_of_cases = []\n",
    "    each_case = {}\n",
    "    all_tds = await row.query_selector_all('td')\n",
    "    if len(all_tds) == 2:\n",
    "        court_name = await all_tds[0].text_content()\n",
    "    elif len(all_tds) == 4:\n",
    "        case_id = await row.query_selector('td:nth-child(2)')\n",
    "        case_title = await row.query_selector('td:nth-child(3)')\n",
    "        each_case['case_id'] = (await case_id.text_content())\n",
    "        each_case['case_title'] = (await case_title.text_content())\n",
    "        each_case['court_name'] = court_name\n",
    "    \n",
    "        ###########################\n",
    "        # if index==15:\n",
    "        #    break # for debugging, delete later\n",
    "        ###########################    \n",
    "\n",
    "        already_scraped_df = pd.read_csv('NAGPUR_pending_case_data.csv')\n",
    "        already_scraped_case_ids = list(already_scraped_df['case_id'])\n",
    "        if each_case['case_id'] in already_scraped_case_ids:\n",
    "#             print(f\"Already scraped {each_case['case_id']}\")\n",
    "            continue # this means go back to the top of the loop without finishing this iteration\n",
    "        \n",
    "        print(f\"Scraping {each_case['case_id']}\")\n",
    "            \n",
    "        time.sleep(3)\n",
    "        \n",
    "        \n",
    "        #Because this case's view button acts weird, we are skipping this case\n",
    "        cases_to_skip = ['R.C.C./300630/2015', 'Sessions Case/228/2018', 'Sessions Case/100213/2014']\n",
    "        if each_case['case_id'] in cases_to_skip:\n",
    "            with open('pending_case_data.csv', 'a') as csvfile:\n",
    "                writer = csv.DictWriter(csvfile, fieldnames=headers)\n",
    "                writer.writerow(each_case)\n",
    "            list_of_cases.append(each_case)\n",
    "            continue\n",
    "            \n",
    "        #Click on view button\n",
    "        view_button = await row.query_selector('a')\n",
    "        await view_button.click()\n",
    "            \n",
    "        time.sleep(5)\n",
    "\n",
    "        #Scrape the view contents and put them in each_case\n",
    "\n",
    "        #case_details\n",
    "        case_details_table = await page.query_selector('#CSact .case_details_table')\n",
    "        case_details = await scrape_weird_first_table(case_details_table)\n",
    "            #print(case_details)\n",
    "\n",
    "        #case_status\n",
    "        cases_status_table = await page.query_selector('#CSact .case_status_table')\n",
    "        cases_status = await scrape_side_by_side_table(cases_status_table)\n",
    "            #print(cases_status)\n",
    "\n",
    "        #subordinate court\n",
    "        lower_court_table = await page.query_selector('#CSact .Lower_court_table')\n",
    "        if lower_court_table:\n",
    "            lower_court = await scrape_side_by_side_table(lower_court_table)\n",
    "        else:\n",
    "            print(\"Failed to scrape lower court table\")\n",
    "            #print(lower_court)\n",
    "\n",
    "        #FIR_details\n",
    "        FIR_details_table = await page.query_selector('#CSact .FIR_details_table')\n",
    "        if FIR_details_table:\n",
    "            FIR_details = await scrape_side_by_side_table(FIR_details_table)\n",
    "        else:\n",
    "            FIR_details = {}\n",
    "            print(\"Failed to scrape FIR details table\")\n",
    "            #Put the result through pd.DataFrame() after looping\n",
    "            #print(FIR_details)\n",
    "\n",
    "        #petitioner_advocate\n",
    "        petitioner_and_advocate_table = await page.query_selector('#CSact .Petitioner_Advocate_table')\n",
    "        all_trs = await petitioner_and_advocate_table.query_selector_all('tr')\n",
    "        petitioner_advocate = {}\n",
    "        petitioner_and_advocate = []\n",
    "        for tr in all_trs:\n",
    "            all_tds = await tr.query_selector_all('td')\n",
    "            for td in all_tds:\n",
    "                petitioner_and_advocate.append(await td.text_content())\n",
    "                petitioner_advocate['petitioner_and_advocate'] = petitioner_and_advocate\n",
    "                #print(petitioner_advocate)\n",
    "\n",
    "        #respondent_advocate\n",
    "        respondent_and_advocate_table = await page.query_selector('#CSact .Respondent_Advocate_table')\n",
    "        all_trs = await respondent_and_advocate_table.query_selector_all('tr')\n",
    "        respondent_advocate = {}\n",
    "        respondent_and_advocate = []\n",
    "        for tr in all_trs:\n",
    "            all_tds = await tr.query_selector_all('td')\n",
    "            for td in all_tds:\n",
    "                respondent_and_advocate.append(await td.text_content())\n",
    "                respondent_advocate['respondent_and_advocate'] = respondent_and_advocate\n",
    "                #print(respondent_advocate)\n",
    "\n",
    "        #click back button\n",
    "        back_button = page.locator('#main_back_act')\n",
    "        await back_button.click()\n",
    "        \n",
    "        time.sleep(5)\n",
    "        \n",
    "        all_case_data = {**each_case, **case_details, **cases_status, **lower_court, **FIR_details, **petitioner_advocate, **respondent_advocate}\n",
    "\n",
    "        with open('NAGPUR_pending_case_data.csv', 'a') as csvfile:\n",
    "            writer = csv.DictWriter(csvfile, fieldnames=headers)\n",
    "            writer.writerow(all_case_data)   \n",
    "            \n",
    "        list_of_cases.append(all_case_data)\n",
    "\n",
    "    else:\n",
    "        raise Exception(\"Error parsing table. Expected 2 or 4 td elements.\")"
   ]
  },
  {
   "cell_type": "code",
   "execution_count": 214,
   "id": "a2349f58",
   "metadata": {},
   "outputs": [],
   "source": [
    "data_so_far = pd.read_csv('NAGPUR_pending_case_data.csv')\n",
    "data_so_far.to_csv(f'pending_case_data_{pd.Timestamp.now()}.csv')"
   ]
  },
  {
   "cell_type": "markdown",
   "id": "a1bdd338",
   "metadata": {},
   "source": [
    "## For Nagpur District Court\n",
    "\n",
    "### The number of cases changed on the tqdm from 122 to 200 even though the number of cases on the page remained the same. \n",
    "### I got all 122 cases on the page but it is now trying to scrape \n",
    "\n",
    "## For Nagpur District Court III\n",
    "\n",
    "### It is scraping 771 cases when there are only 703! \n",
    "### This also started again from around 100 cases before the end! "
   ]
  },
  {
   "cell_type": "code",
   "execution_count": null,
   "id": "b350c4df",
   "metadata": {},
   "outputs": [],
   "source": [
    "#df.to_csv('MAH_pending_302.csv', index=False)"
   ]
  },
  {
   "cell_type": "code",
   "execution_count": null,
   "id": "3a765620",
   "metadata": {
    "scrolled": true
   },
   "outputs": [],
   "source": [
    "#pd.read_csv('MAH_pending_302.csv')"
   ]
  },
  {
   "cell_type": "code",
   "execution_count": null,
   "id": "37d23f5f",
   "metadata": {},
   "outputs": [],
   "source": [
    "#SAFEKEEPING\n",
    "\n",
    "# view_button = await page.locator('//*[@id=\"dispTable\"]/tbody/tr[2]/td[4]/a').click()\n",
    "# #case_details\n",
    "# case_details_table = await page.query_selector('#CSact .case_details_table')\n",
    "# case_details = await scrape_weird_first_table(case_details_table)\n",
    "# print(case_details)\n",
    "\n",
    "# #case_status\n",
    "# cases_status_table = await page.query_selector('#CSact .case_status_table')\n",
    "# cases_status = await scrape_side_by_side_table(cases_status_table)\n",
    "# print(cases_status)\n",
    "\n",
    "# #subordinate court\n",
    "# lower_court_table = await page.query_selector('#CSact .Lower_court_table')\n",
    "# lower_court = await scrape_side_by_side_table(lower_court_table)\n",
    "# print(lower_court)\n",
    "\n",
    "# #FIR_details\n",
    "# FIR_details_table = await page.query_selector('#CSact .FIR_details_table')\n",
    "# FIR_details = await scrape_side_by_side_table(FIR_details_table)\n",
    "# #Put the result through pd.DataFrame() after looping\n",
    "# print(FIR_details)\n",
    "\n",
    "# #petitioner_advocate\n",
    "# petitioner_and_advocate_table = await page.query_selector('#CSact .Petitioner_Advocate_table')\n",
    "# all_trs = await petitioner_and_advocate_table.query_selector_all('tr')\n",
    "# petitioner_advocate = {}\n",
    "# petitioner_and_advocate = []\n",
    "# for tr in all_trs:\n",
    "#     all_tds = await tr.query_selector_all('td')\n",
    "#     for td in all_tds:\n",
    "#         petitioner_and_advocate.append(await td.text_content())\n",
    "#         petitioner_advocate['petitioner_and_advocate'] = petitioner_and_advocate\n",
    "#     print(petitioner_advocate)\n",
    "    \n",
    "# #respondent_advocate\n",
    "# respondent_and_advocate_table = await page.query_selector('#CSact .Respondent_Advocate_table')\n",
    "# all_trs = await respondent_and_advocate_table.query_selector_all('tr')\n",
    "# respondent_advocate = {}\n",
    "# respondent_and_advocate = []\n",
    "# for tr in all_trs:\n",
    "#     all_tds = await tr.query_selector_all('td')\n",
    "#     for td in all_tds:\n",
    "#         respondent_and_advocate.append(await td.text_content())\n",
    "#         respondent_advocate['respondent_and_advocate'] = respondent_and_advocate\n",
    "#     print(respondent_advocate)"
   ]
  },
  {
   "cell_type": "code",
   "execution_count": null,
   "id": "0e8adb07",
   "metadata": {},
   "outputs": [],
   "source": [
    "#back_button = await page.locator('//*[@id=\"main_back_act\"]').click()"
   ]
  },
  {
   "cell_type": "code",
   "execution_count": null,
   "id": "83980d80",
   "metadata": {},
   "outputs": [],
   "source": [
    "#List of tables for reference and mental health\n",
    "\n",
    "# case_details_table = await page.query_selector('#CSact .case_details_table')\n",
    "# cases_status_table = await page.query_selector('#CSact .case_status_table')\n",
    "# petitioner_and_advocate_table = await page.query_selector('#CSact .Petitioner_Advocate_table')\n",
    "# respondent_and_advocate_table = await page.query_selector('#CSact .Respondent_Advocate_table')\n",
    "# acts_table = await page.query_selector('#CSact .acts_table')\n",
    "# lower_court_table = await page.query_selector('#CSact .Lower_court_table')\n",
    "# FIR_details_table = await page.query_selector('#CSact .FIR_details_table')"
   ]
  },
  {
   "cell_type": "code",
   "execution_count": null,
   "id": "dcb4ce85",
   "metadata": {},
   "outputs": [],
   "source": [
    "# collect dictionaries for each table\n",
    "# case_details_data = scrape_weird_first_table(case_details_table)\n",
    "# case_status_data = scrape_side_by_side_table(case_status_table)\n",
    "\n",
    "# # combine dictionaries\n",
    "# case_data = {**case_details_data, **case_status_data}"
   ]
  },
  {
   "cell_type": "markdown",
   "id": "e5bb4fff",
   "metadata": {},
   "source": [
    "### case_details_table"
   ]
  },
  {
   "cell_type": "code",
   "execution_count": null,
   "id": "f28c81bb",
   "metadata": {},
   "outputs": [],
   "source": [
    "case_details_table = await page.query_selector('#CSact .case_details_table')\n",
    "case_details = await scrape_weird_first_table(case_details_table)\n",
    "print(case_details)"
   ]
  },
  {
   "cell_type": "markdown",
   "id": "acb22480",
   "metadata": {},
   "source": [
    "### cases_status_table"
   ]
  },
  {
   "cell_type": "code",
   "execution_count": null,
   "id": "db97110c",
   "metadata": {},
   "outputs": [],
   "source": [
    "cases_status_table = await page.query_selector('#CSact .case_status_table')\n",
    "cases_status = await scrape_side_by_side_table(cases_status_table)\n",
    "print(cases_status)"
   ]
  },
  {
   "cell_type": "markdown",
   "id": "f38bc61f",
   "metadata": {},
   "source": [
    "### lower_court_table"
   ]
  },
  {
   "cell_type": "code",
   "execution_count": null,
   "id": "c63544b2",
   "metadata": {},
   "outputs": [],
   "source": [
    "lower_court_table = await page.query_selector('#CSact .Lower_court_table')\n",
    "lower_court = await scrape_side_by_side_table(lower_court_table)\n",
    "print(lower_court)"
   ]
  },
  {
   "cell_type": "markdown",
   "id": "ccd2dd80",
   "metadata": {},
   "source": [
    "### FIR_details_table"
   ]
  },
  {
   "cell_type": "code",
   "execution_count": null,
   "id": "b3b071ae",
   "metadata": {},
   "outputs": [],
   "source": [
    "FIR_details_table = await page.query_selector('#CSact .FIR_details_table')\n",
    "FIR_details = await scrape_side_by_side_table(FIR_details_table)\n",
    "#Put the result through pd.DataFrame() after looping\n",
    "print(FIR_details)"
   ]
  },
  {
   "cell_type": "markdown",
   "id": "518db62a",
   "metadata": {},
   "source": [
    "### acts_table"
   ]
  },
  {
   "cell_type": "code",
   "execution_count": null,
   "id": "73a82481",
   "metadata": {},
   "outputs": [],
   "source": [
    "acts_table = await page.query_selector('#CSact .acts_table')\n",
    "acts = await scrape_dataframe_style_table(acts_table)\n",
    "print(acts)"
   ]
  }
 ],
 "metadata": {
  "kernelspec": {
   "display_name": "Python 3 (ipykernel)",
   "language": "python",
   "name": "python3"
  },
  "language_info": {
   "codemirror_mode": {
    "name": "ipython",
    "version": 3
   },
   "file_extension": ".py",
   "mimetype": "text/x-python",
   "name": "python",
   "nbconvert_exporter": "python",
   "pygments_lexer": "ipython3",
   "version": "3.11.0rc2"
  }
 },
 "nbformat": 4,
 "nbformat_minor": 5
}
