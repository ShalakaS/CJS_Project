{
 "cells": [
  {
   "cell_type": "code",
   "execution_count": 5,
   "id": "f0426820",
   "metadata": {},
   "outputs": [],
   "source": [
    "import pandas as pd\n",
    "from playwright.async_api import async_playwright\n",
    "playwright = await async_playwright().start()\n",
    "browser = await playwright.chromium.launch(headless = False)\n",
    "page = await browser.new_page()\n",
    "from tqdm.notebook import tqdm\n",
    "import time\n",
    "import pdb\n",
    "import csv\n",
    "from PIL import Image\n",
    "import requests\n",
    "import pytesseract"
   ]
  },
  {
   "cell_type": "code",
   "execution_count": 6,
   "id": "218f3132",
   "metadata": {},
   "outputs": [],
   "source": [
    "url = 'https://services.ecourts.gov.in/ecourtindia_v6/?p=casestatus/index&app_token=c3c41da3cb5e335b69849006e4de6372a40dda722a50a46fd80a9086c896e86b'"
   ]
  },
  {
   "cell_type": "code",
   "execution_count": null,
   "id": "07858e9d",
   "metadata": {},
   "outputs": [],
   "source": [
    "await page.goto(url)"
   ]
  },
  {
   "cell_type": "code",
   "execution_count": null,
   "id": "7e7b22ca",
   "metadata": {},
   "outputs": [],
   "source": [
    "await page.locator('//*[@id=\"validateError\"]/div/div/div[1]/button').click()"
   ]
  },
  {
   "cell_type": "code",
   "execution_count": null,
   "id": "bc76d82e",
   "metadata": {},
   "outputs": [],
   "source": [
    "await page.locator('#sess_state_code').select_option('1')"
   ]
  },
  {
   "cell_type": "code",
   "execution_count": null,
   "id": "85af3bcd",
   "metadata": {},
   "outputs": [],
   "source": [
    "await page.locator('#sess_dist_code').select_option('25')"
   ]
  },
  {
   "cell_type": "markdown",
   "id": "21815b45",
   "metadata": {},
   "source": [
    "### Pune and Baramati are two district courts in Pune district"
   ]
  },
  {
   "cell_type": "code",
   "execution_count": null,
   "id": "3f1a0e25",
   "metadata": {},
   "outputs": [],
   "source": [
    "#Baramati\n",
    "#await page.locator('#court_complex_code').select_option('1010293@4,26,27@N')\n",
    "#Pune\n",
    "await page.locator('#court_complex_code').select_option('1010303@1,2,3,22,23@N')"
   ]
  },
  {
   "cell_type": "code",
   "execution_count": null,
   "id": "b18529d4",
   "metadata": {},
   "outputs": [],
   "source": [
    "await page.locator('//*[@id=\"act-tabMenu\"]').click()"
   ]
  },
  {
   "cell_type": "code",
   "execution_count": null,
   "id": "afbb04a1",
   "metadata": {},
   "outputs": [],
   "source": [
    "await page.locator('#actcode').select_option('1')"
   ]
  },
  {
   "cell_type": "code",
   "execution_count": null,
   "id": "1a9bab1f",
   "metadata": {},
   "outputs": [],
   "source": [
    "await page.locator('#under_sec').fill('302')"
   ]
  },
  {
   "cell_type": "code",
   "execution_count": null,
   "id": "13ec2884",
   "metadata": {},
   "outputs": [],
   "source": [
    "await page.locator('#radPAct').click()"
   ]
  },
  {
   "cell_type": "code",
   "execution_count": null,
   "id": "9b64432c",
   "metadata": {},
   "outputs": [],
   "source": [
    "captcha_image = await page.locator('#div_captcha_act #captcha_image').screenshot(type='png')\n",
    "\n",
    "with open('captcha.png', 'wb') as fp:\n",
    "    print(\"Saved as captcha.png\")\n",
    "    fp.write(captcha_image)"
   ]
  },
  {
   "cell_type": "code",
   "execution_count": null,
   "id": "57c911f1",
   "metadata": {},
   "outputs": [],
   "source": [
    "image = Image.open('captcha.png')\n",
    "image"
   ]
  },
  {
   "cell_type": "code",
   "execution_count": null,
   "id": "db01e9a2",
   "metadata": {},
   "outputs": [],
   "source": [
    "answer = pytesseract.image_to_string(image).strip()\n",
    "answer"
   ]
  },
  {
   "cell_type": "code",
   "execution_count": null,
   "id": "8ebad52d",
   "metadata": {},
   "outputs": [],
   "source": [
    "await page.locator('#act_captcha_code').fill(answer)"
   ]
  },
  {
   "cell_type": "code",
   "execution_count": null,
   "id": "dc96023b",
   "metadata": {},
   "outputs": [],
   "source": [
    "await page.locator('//*[@id=\"frm_act\"]/div[3]/div[2]/button').click()"
   ]
  },
  {
   "cell_type": "code",
   "execution_count": null,
   "id": "f536cc3c",
   "metadata": {},
   "outputs": [],
   "source": [
    "table_1 = await page.query_selector_all('tr')\n",
    "\n",
    "for row in table_1:\n",
    "    print(await row.text_content())"
   ]
  },
  {
   "cell_type": "code",
   "execution_count": null,
   "id": "401b8caf",
   "metadata": {},
   "outputs": [],
   "source": [
    "headers = ['case_id', 'case_title', 'court_name', ' Case Type', ' Filing Number ',\n",
    "       'Registration Number', 'CNR Number', 'First Hearing Date',\n",
    "       'Next Hearing Date', 'Case Stage', 'News and Events and Judge', 'Court Number and Judge',\n",
    "       'Court Number and Name', 'Case Number and Year', 'Case Decision Date',\n",
    "       'Police Station', 'FIR Number', 'Year', 'petitioner_and_advocate',\n",
    "       'respondent_and_advocate','Case Transferred from Establishment', 'Transfer Date']\n",
    "\n",
    "with open('pending_case_data.csv', 'w') as csvfile:\n",
    "    writer = csv.writer(csvfile) # define a writer\n",
    "    writer.writerow(headers) # write the row"
   ]
  },
  {
   "cell_type": "code",
   "execution_count": null,
   "id": "e6221267",
   "metadata": {},
   "outputs": [],
   "source": [
    "# async def view_button_click_and_close_error_message(row):\n",
    "#     view_button = await row.query_selector('a')\n",
    "#     await view_button.click()\n",
    "# #     print('clicked view button')\n",
    "#     error_button = await page.query_selector('//*[@id=\"validateError\"]/div/div/div[1]/button')\n",
    "#     if error_button.is_visible():\n",
    "#         await error_button.click()\n",
    "# #         print('found error button')\n",
    "#         raise Exception('error after clicking view')"
   ]
  },
  {
   "cell_type": "markdown",
   "id": "2f1980c9",
   "metadata": {},
   "source": [
    "# Function_1 scrape_weird_first_table()"
   ]
  },
  {
   "cell_type": "code",
   "execution_count": null,
   "id": "0eb26c15",
   "metadata": {},
   "outputs": [],
   "source": [
    "async def scrape_weird_first_table(table):\n",
    "    case_detail_table = {}\n",
    "    all_trs = await table.query_selector_all('tr')\n",
    "    for tr in all_trs:\n",
    "        key_element = await tr.query_selector_all('td')\n",
    "        key = await key_element[0].text_content()\n",
    "        value_element = await tr.query_selector_all('td')\n",
    "        value = await value_element[1].text_content()\n",
    "        case_detail_table[key] = value\n",
    "    return case_detail_table"
   ]
  },
  {
   "cell_type": "markdown",
   "id": "60e46ebf",
   "metadata": {},
   "source": [
    "# Function_2 scrape_side_by_side_table()"
   ]
  },
  {
   "cell_type": "code",
   "execution_count": null,
   "id": "74117dbb",
   "metadata": {},
   "outputs": [],
   "source": [
    "async def scrape_side_by_side_table(table):\n",
    "    case_status_table = {}\n",
    "    all_trs = await table.query_selector_all('tr')\n",
    "    for tr in all_trs:\n",
    "        all_tds = await tr.query_selector_all('td')\n",
    "        if len(all_tds) == 2:\n",
    "            left_column = await tr.query_selector_all('td')\n",
    "            keys = await left_column[0].text_content()\n",
    "            right_column = await tr.query_selector_all('td')\n",
    "            values = await right_column[1].text_content()\n",
    "            case_status_table[keys] = values\n",
    "        else:\n",
    "            pass\n",
    "    return case_status_table"
   ]
  },
  {
   "cell_type": "markdown",
   "id": "8981eb0a",
   "metadata": {},
   "source": [
    "# Function_3 scrape_dataframe_style_table()"
   ]
  },
  {
   "cell_type": "code",
   "execution_count": null,
   "id": "1c93c725",
   "metadata": {},
   "outputs": [],
   "source": [
    "async def scrape_dataframe_style_table(table):\n",
    "    tables = pd.read_html(await page.content())\n",
    "    return tables[5]"
   ]
  },
  {
   "cell_type": "markdown",
   "id": "31ddc9a8",
   "metadata": {},
   "source": [
    "# Scraping (Petitioner + Respondent) & Advocates\n",
    "\n",
    "## petitioner_and_advocate_table\n",
    "#### Save all tds in form of a list and add the list as value to the result dictionary\n",
    "#### This will take care of pages where there are multiple tds which means multiple petitioners"
   ]
  },
  {
   "cell_type": "code",
   "execution_count": null,
   "id": "ac343911",
   "metadata": {},
   "outputs": [],
   "source": [
    "petitioner_and_advocate_table = await page.query_selector('#CSact .Petitioner_Advocate_table')\n",
    "all_trs = await petitioner_and_advocate_table.query_selector_all('tr')\n",
    "petitioner_advocate = {}\n",
    "petitioner_and_advocate = []\n",
    "for tr in all_trs:\n",
    "    all_tds = await tr.query_selector_all('td')\n",
    "    for td in all_tds:\n",
    "        petitioner_and_advocate.append(await td.text_content())\n",
    "        petitioner_advocate['petitioner_and_advocate'] = petitioner_and_advocate\n",
    "    print(petitioner_advocate)          "
   ]
  },
  {
   "cell_type": "markdown",
   "id": "ed65e44b",
   "metadata": {},
   "source": [
    "## respondent_and_advocate_table\n",
    "#### Save all tds in form of a list and add the list as value to the result dictionary\n",
    "#### This will take care of pages where there are multiple tds which means multiple respondents"
   ]
  },
  {
   "cell_type": "code",
   "execution_count": null,
   "id": "31e43752",
   "metadata": {},
   "outputs": [],
   "source": [
    "respondent_and_advocate_table = await page.query_selector('#CSact .Respondent_Advocate_table')\n",
    "all_trs = await respondent_and_advocate_table.query_selector_all('tr')\n",
    "respondent_advocate = {}\n",
    "respondent_and_advocate = []\n",
    "for tr in all_trs:\n",
    "    all_tds = await tr.query_selector_all('td')\n",
    "    for td in all_tds:\n",
    "        respondent_and_advocate.append(await td.text_content())\n",
    "        respondent_advocate['respondent_and_advocate'] = respondent_and_advocate\n",
    "    print(respondent_advocate)     "
   ]
  },
  {
   "cell_type": "code",
   "execution_count": null,
   "id": "ad3fb6d7",
   "metadata": {
    "scrolled": true
   },
   "outputs": [],
   "source": [
    "table_1 = await page.query_selector_all('tr')\n",
    "index=0\n",
    "\n",
    "\n",
    "for row in tqdm(table_1[1:]):\n",
    "    index = index + 1\n",
    "    list_of_cases = []\n",
    "    each_case = {}\n",
    "    all_tds = await row.query_selector_all('td')\n",
    "    if len(all_tds) == 2:\n",
    "        court_name = await all_tds[0].text_content()\n",
    "    elif len(all_tds) == 4:\n",
    "        case_id = await row.query_selector('td:nth-child(2)')\n",
    "        case_title = await row.query_selector('td:nth-child(3)')\n",
    "        each_case['case_id'] = (await case_id.text_content())\n",
    "        each_case['case_title'] = (await case_title.text_content())\n",
    "        each_case['court_name'] = court_name\n",
    "    \n",
    "\n",
    "        already_scraped_df = pd.read_csv('pending_case_data.csv')\n",
    "        already_scraped_case_ids = list(already_scraped_df['case_id'])\n",
    "        if each_case['case_id'] in already_scraped_case_ids:\n",
    "#             print(f\"Already scraped {each_case['case_id']}\")\n",
    "            continue # this means go back to the top of the loop without finishing this iteration\n",
    "        \n",
    "        print(f\"Scraping {each_case['case_id']}\")\n",
    "            \n",
    "        time.sleep(3)\n",
    "        \n",
    "        #Because this case's view button acts weird, we are skipping this case\n",
    "        cases_to_skip = ['Sessions Case/100264/2014', 'Sessions Case/100919/2013', 'Sessions Case/100672/2013']\n",
    "        if each_case['case_id'] in cases_to_skip:\n",
    "            with open('pending_case_data.csv', 'a') as csvfile:\n",
    "                writer = csv.DictWriter(csvfile, fieldnames=headers)\n",
    "                writer.writerow(each_case)\n",
    "            list_of_cases.append(each_case)\n",
    "            continue\n",
    "            \n",
    "        #Click on view button\n",
    "        view_button = await row.query_selector('a')\n",
    "        await view_button.click()\n",
    "            \n",
    "        time.sleep(5)\n",
    "\n",
    "        #Scrape the view contents and put them in each_case\n",
    "\n",
    "        #case_details\n",
    "        case_details_table = await page.query_selector('#CSact .case_details_table')\n",
    "        case_details = await scrape_weird_first_table(case_details_table)\n",
    "            #print(case_details)\n",
    "\n",
    "        #case_status\n",
    "        cases_status_table = await page.query_selector('#CSact .case_status_table')\n",
    "        cases_status = await scrape_side_by_side_table(cases_status_table)\n",
    "            #print(cases_status)\n",
    "\n",
    "        #subordinate court\n",
    "        lower_court_table = await page.query_selector('#CSact .Lower_court_table')\n",
    "        if lower_court_table:\n",
    "            lower_court = await scrape_side_by_side_table(lower_court_table)\n",
    "        else:\n",
    "            print(\"Failed to scrape lower court table\")\n",
    "            #print(lower_court)\n",
    "\n",
    "        #FIR_details\n",
    "        FIR_details_table = await page.query_selector('#CSact .FIR_details_table')\n",
    "        if FIR_details_table:\n",
    "            FIR_details = await scrape_side_by_side_table(FIR_details_table)\n",
    "        else:\n",
    "            print(\"Failed to scrape FIR details table\")\n",
    "            #Put the result through pd.DataFrame() after looping\n",
    "            #print(FIR_details)\n",
    "\n",
    "        #petitioner_advocate\n",
    "        petitioner_and_advocate_table = await page.query_selector('#CSact .Petitioner_Advocate_table')\n",
    "        all_trs = await petitioner_and_advocate_table.query_selector_all('tr')\n",
    "        petitioner_advocate = {}\n",
    "        petitioner_and_advocate = []\n",
    "        for tr in all_trs:\n",
    "            all_tds = await tr.query_selector_all('td')\n",
    "            for td in all_tds:\n",
    "                petitioner_and_advocate.append(await td.text_content())\n",
    "                petitioner_advocate['petitioner_and_advocate'] = petitioner_and_advocate\n",
    "                #print(petitioner_advocate)\n",
    "\n",
    "        #respondent_advocate\n",
    "        respondent_and_advocate_table = await page.query_selector('#CSact .Respondent_Advocate_table')\n",
    "        all_trs = await respondent_and_advocate_table.query_selector_all('tr')\n",
    "        respondent_advocate = {}\n",
    "        respondent_and_advocate = []\n",
    "        for tr in all_trs:\n",
    "            all_tds = await tr.query_selector_all('td')\n",
    "            for td in all_tds:\n",
    "                respondent_and_advocate.append(await td.text_content())\n",
    "                respondent_advocate['respondent_and_advocate'] = respondent_and_advocate\n",
    "                #print(respondent_advocate)\n",
    "\n",
    "        #click back button\n",
    "        back_button = page.locator('#main_back_act')\n",
    "        await back_button.click()\n",
    "        \n",
    "        time.sleep(5)\n",
    "        \n",
    "        all_case_data = {**each_case, **case_details, **cases_status, **lower_court, **FIR_details, **petitioner_advocate, **respondent_advocate}\n",
    "\n",
    "        with open('pending_case_data.csv', 'a') as csvfile:\n",
    "            writer = csv.DictWriter(csvfile, fieldnames=headers)\n",
    "            writer.writerow(all_case_data)\n",
    "            \n",
    "            \n",
    "            \n",
    "        list_of_cases.append(all_case_data)\n",
    "\n",
    "    else:\n",
    "        raise Exception(\"Error parsing table. Expected 2 or 4 td elements.\")"
   ]
  },
  {
   "cell_type": "code",
   "execution_count": null,
   "id": "a2349f58",
   "metadata": {},
   "outputs": [],
   "source": [
    "data_so_far = pd.read_csv('pending_case_data.csv')\n",
    "data_so_far.to_csv(f'pending_case_data_{pd.Timestamp.now()}.csv')"
   ]
  },
  {
   "cell_type": "code",
   "execution_count": null,
   "id": "b350c4df",
   "metadata": {},
   "outputs": [],
   "source": [
    "#df.to_csv('MAH_pending_302.csv', index=False)"
   ]
  },
  {
   "cell_type": "code",
   "execution_count": null,
   "id": "3a765620",
   "metadata": {
    "scrolled": true
   },
   "outputs": [],
   "source": [
    "#pd.read_csv('MAH_pending_302.csv')"
   ]
  },
  {
   "cell_type": "code",
   "execution_count": null,
   "id": "37d23f5f",
   "metadata": {},
   "outputs": [],
   "source": [
    "#SAFEKEEPING\n",
    "\n",
    "# view_button = await page.locator('//*[@id=\"dispTable\"]/tbody/tr[2]/td[4]/a').click()\n",
    "# #case_details\n",
    "# case_details_table = await page.query_selector('#CSact .case_details_table')\n",
    "# case_details = await scrape_weird_first_table(case_details_table)\n",
    "# print(case_details)\n",
    "\n",
    "# #case_status\n",
    "# cases_status_table = await page.query_selector('#CSact .case_status_table')\n",
    "# cases_status = await scrape_side_by_side_table(cases_status_table)\n",
    "# print(cases_status)\n",
    "\n",
    "# #subordinate court\n",
    "# lower_court_table = await page.query_selector('#CSact .Lower_court_table')\n",
    "# lower_court = await scrape_side_by_side_table(lower_court_table)\n",
    "# print(lower_court)\n",
    "\n",
    "# #FIR_details\n",
    "# FIR_details_table = await page.query_selector('#CSact .FIR_details_table')\n",
    "# FIR_details = await scrape_side_by_side_table(FIR_details_table)\n",
    "# #Put the result through pd.DataFrame() after looping\n",
    "# print(FIR_details)\n",
    "\n",
    "# #petitioner_advocate\n",
    "# petitioner_and_advocate_table = await page.query_selector('#CSact .Petitioner_Advocate_table')\n",
    "# all_trs = await petitioner_and_advocate_table.query_selector_all('tr')\n",
    "# petitioner_advocate = {}\n",
    "# petitioner_and_advocate = []\n",
    "# for tr in all_trs:\n",
    "#     all_tds = await tr.query_selector_all('td')\n",
    "#     for td in all_tds:\n",
    "#         petitioner_and_advocate.append(await td.text_content())\n",
    "#         petitioner_advocate['petitioner_and_advocate'] = petitioner_and_advocate\n",
    "#     print(petitioner_advocate)\n",
    "    \n",
    "# #respondent_advocate\n",
    "# respondent_and_advocate_table = await page.query_selector('#CSact .Respondent_Advocate_table')\n",
    "# all_trs = await respondent_and_advocate_table.query_selector_all('tr')\n",
    "# respondent_advocate = {}\n",
    "# respondent_and_advocate = []\n",
    "# for tr in all_trs:\n",
    "#     all_tds = await tr.query_selector_all('td')\n",
    "#     for td in all_tds:\n",
    "#         respondent_and_advocate.append(await td.text_content())\n",
    "#         respondent_advocate['respondent_and_advocate'] = respondent_and_advocate\n",
    "#     print(respondent_advocate)"
   ]
  },
  {
   "cell_type": "code",
   "execution_count": null,
   "id": "0e8adb07",
   "metadata": {},
   "outputs": [],
   "source": [
    "#back_button = await page.locator('//*[@id=\"main_back_act\"]').click()"
   ]
  },
  {
   "cell_type": "code",
   "execution_count": null,
   "id": "83980d80",
   "metadata": {},
   "outputs": [],
   "source": [
    "#List of tables for reference and mental health\n",
    "\n",
    "# case_details_table = await page.query_selector('#CSact .case_details_table')\n",
    "# cases_status_table = await page.query_selector('#CSact .case_status_table')\n",
    "# petitioner_and_advocate_table = await page.query_selector('#CSact .Petitioner_Advocate_table')\n",
    "# respondent_and_advocate_table = await page.query_selector('#CSact .Respondent_Advocate_table')\n",
    "# acts_table = await page.query_selector('#CSact .acts_table')\n",
    "# lower_court_table = await page.query_selector('#CSact .Lower_court_table')\n",
    "# FIR_details_table = await page.query_selector('#CSact .FIR_details_table')"
   ]
  },
  {
   "cell_type": "code",
   "execution_count": null,
   "id": "dcb4ce85",
   "metadata": {},
   "outputs": [],
   "source": [
    "# collect dictionaries for each table\n",
    "# case_details_data = scrape_weird_first_table(case_details_table)\n",
    "# case_status_data = scrape_side_by_side_table(case_status_table)\n",
    "\n",
    "# # combine dictionaries\n",
    "# case_data = {**case_details_data, **case_status_data}"
   ]
  },
  {
   "cell_type": "markdown",
   "id": "e5bb4fff",
   "metadata": {},
   "source": [
    "### case_details_table"
   ]
  },
  {
   "cell_type": "code",
   "execution_count": null,
   "id": "f28c81bb",
   "metadata": {},
   "outputs": [],
   "source": [
    "case_details_table = await page.query_selector('#CSact .case_details_table')\n",
    "case_details = await scrape_weird_first_table(case_details_table)\n",
    "print(case_details)"
   ]
  },
  {
   "cell_type": "markdown",
   "id": "acb22480",
   "metadata": {},
   "source": [
    "### cases_status_table"
   ]
  },
  {
   "cell_type": "code",
   "execution_count": null,
   "id": "db97110c",
   "metadata": {},
   "outputs": [],
   "source": [
    "cases_status_table = await page.query_selector('#CSact .case_status_table')\n",
    "cases_status = await scrape_side_by_side_table(cases_status_table)\n",
    "print(cases_status)"
   ]
  },
  {
   "cell_type": "markdown",
   "id": "f38bc61f",
   "metadata": {},
   "source": [
    "### lower_court_table"
   ]
  },
  {
   "cell_type": "code",
   "execution_count": null,
   "id": "c63544b2",
   "metadata": {},
   "outputs": [],
   "source": [
    "lower_court_table = await page.query_selector('#CSact .Lower_court_table')\n",
    "lower_court = await scrape_side_by_side_table(lower_court_table)\n",
    "print(lower_court)"
   ]
  },
  {
   "cell_type": "markdown",
   "id": "ccd2dd80",
   "metadata": {},
   "source": [
    "### FIR_details_table"
   ]
  },
  {
   "cell_type": "code",
   "execution_count": null,
   "id": "b3b071ae",
   "metadata": {},
   "outputs": [],
   "source": [
    "FIR_details_table = await page.query_selector('#CSact .FIR_details_table')\n",
    "FIR_details = await scrape_side_by_side_table(FIR_details_table)\n",
    "#Put the result through pd.DataFrame() after looping\n",
    "print(FIR_details)"
   ]
  },
  {
   "cell_type": "markdown",
   "id": "518db62a",
   "metadata": {},
   "source": [
    "### acts_table"
   ]
  },
  {
   "cell_type": "code",
   "execution_count": null,
   "id": "73a82481",
   "metadata": {},
   "outputs": [],
   "source": [
    "acts_table = await page.query_selector('#CSact .acts_table')\n",
    "acts = await scrape_dataframe_style_table(acts_table)\n",
    "print(acts)"
   ]
  },
  {
   "cell_type": "code",
   "execution_count": null,
   "id": "ccc2de50",
   "metadata": {},
   "outputs": [],
   "source": []
  }
 ],
 "metadata": {
  "kernelspec": {
   "display_name": "Python 3 (ipykernel)",
   "language": "python",
   "name": "python3"
  },
  "language_info": {
   "codemirror_mode": {
    "name": "ipython",
    "version": 3
   },
   "file_extension": ".py",
   "mimetype": "text/x-python",
   "name": "python",
   "nbconvert_exporter": "python",
   "pygments_lexer": "ipython3",
   "version": "3.11.0rc2"
  }
 },
 "nbformat": 4,
 "nbformat_minor": 5
}
